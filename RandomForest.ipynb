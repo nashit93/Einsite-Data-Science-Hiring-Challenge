{
 "cells": [
  {
   "cell_type": "code",
   "execution_count": 1,
   "metadata": {
    "collapsed": true
   },
   "outputs": [],
   "source": [
    "%matplotlib inline\n",
    "import numpy as np\n",
    "import pandas as pd\n",
    "import matplotlib.pyplot as plt\n",
    "import math\n",
    "from datetime import datetime\n",
    "from mpl_toolkits.basemap import Basemap"
   ]
  },
  {
   "cell_type": "code",
   "execution_count": 2,
   "metadata": {
    "collapsed": true
   },
   "outputs": [],
   "source": [
    "train = pd.read_csv('train.csv')\n",
    "test = pd.read_csv('test.csv')\n",
    "TID=test['TID']\n",
    "pd.set_option('display.width', 150)"
   ]
  },
  {
   "cell_type": "code",
   "execution_count": 7,
   "metadata": {},
   "outputs": [
    {
     "data": {
      "image/png": "[encoded data removed]",
      "text/plain": [
       "<matplotlib.figure.Figure at 0x7f8425523d90>"
      ]
     },
     "metadata": {},
     "output_type": "display_data"
    }
   ],
   "source": [
    "# Mapping Location on world Map\n",
    "m1 = Basemap(projection='merc',\n",
    "             llcrnrlat=-60,\n",
    "             urcrnrlat=65,\n",
    "             llcrnrlon=-180,\n",
    "             urcrnrlon=180,\n",
    "             lat_ts=0,\n",
    "             resolution='f')\n",
    "\n",
    "m1.fillcontinents(color='#191919',lake_color='#000000') # dark grey land, black lakes\n",
    "m1.drawmapboundary(fill_color='#000000')                # black background\n",
    "m1.drawcountries(linewidth=0.1, color=\"w\")              # thin white line for country borders\n",
    "\n",
    "# Plot the data\n",
    "mxy = m1(train['pickup_longitude'].tolist(), train['pickup_latitude'].tolist())\n",
    "m1.scatter(mxy[0], mxy[1], s=3, c=\"#1292db\", lw=0, alpha=1, zorder=5)\n",
    "\n",
    "plt.title(\"Global view of events\")\n",
    "plt.show()"
   ]
  },
  {
   "cell_type": "code",
   "execution_count": 3,
   "metadata": {
    "collapsed": true
   },
   "outputs": [],
   "source": [
    "train['new_user'].fillna('NO', inplace=True)\n",
    "test['new_user'].fillna('NO', inplace=True)\n",
    "\n",
    "train['tip_amount'].fillna(train['tip_amount'].median(), inplace=True)\n",
    "test['tip_amount'].fillna(test['tip_amount'].median(), inplace=True)\n",
    "\n",
    "train['pickup_longitude'].fillna(train['pickup_longitude'].mode()[0], inplace=True)\n",
    "test['pickup_longitude'].fillna(test['pickup_longitude'].mode()[0], inplace=True)\n",
    "\n",
    "train['pickup_latitude'].fillna(train['pickup_latitude'].mode()[0], inplace=True)\n",
    "test['pickup_latitude'].fillna(test['pickup_latitude'].mode()[0], inplace=True)\n",
    "\n",
    "train['dropoff_longitude'].fillna(train['dropoff_longitude'].mode()[0], inplace=True)\n",
    "test['dropoff_longitude'].fillna(test['dropoff_longitude'].mode()[0], inplace=True)\n",
    "\n",
    "train['dropoff_latitude'].fillna(train['dropoff_latitude'].mode()[0], inplace=True)\n",
    "test['dropoff_latitude'].fillna(test['dropoff_latitude'].mode()[0], inplace=True)"
   ]
  },
  {
   "cell_type": "code",
   "execution_count": 4,
   "metadata": {
    "collapsed": true
   },
   "outputs": [],
   "source": [
    "train['surcharge'].fillna(train['surcharge'].median(), inplace=True)\n",
    "test['surcharge'].fillna(test['surcharge'].median(), inplace=True)"
   ]
  },
  {
   "cell_type": "code",
   "execution_count": 5,
   "metadata": {
    "collapsed": true
   },
   "outputs": [],
   "source": [
    "drop_col = ['TID', 'store_and_fwd_flag']"
   ]
  },
  {
   "cell_type": "code",
   "execution_count": 6,
   "metadata": {
    "collapsed": true
   },
   "outputs": [],
   "source": [
    "cate_vars = ['vendor_id', 'payment_type']\n",
    "one_hot_train = pd.get_dummies(train[cate_vars])\n",
    "one_hot_test = pd.get_dummies(test[cate_vars])\n",
    "     "
   ]
  },
  {
   "cell_type": "code",
   "execution_count": 7,
   "metadata": {
    "collapsed": true
   },
   "outputs": [],
   "source": [
    "cols = list(test.columns)\n",
    "\n",
    "train_label = train['fare_amount']\n",
    "\n",
    "train = train[list(set(cols) - set(cate_vars))]\n",
    "test = test[list(set(cols) - set(cate_vars))]\n"
   ]
  },
  {
   "cell_type": "code",
   "execution_count": 8,
   "metadata": {
    "collapsed": true
   },
   "outputs": [],
   "source": [
    "train = pd.concat([train, one_hot_train], axis=1)\n",
    "test = pd.concat([test, one_hot_test], axis=1)"
   ]
  },
  {
   "cell_type": "code",
   "execution_count": 9,
   "metadata": {
    "collapsed": true
   },
   "outputs": [],
   "source": [
    "col1 = set(train.columns)\n",
    "col2 = set(test.columns)\n",
    "temp = list(col1.intersection(col2))\n",
    "train = train[temp]\n",
    "test = test[temp]"
   ]
  },
  {
   "cell_type": "code",
   "execution_count": 10,
   "metadata": {
    "collapsed": true
   },
   "outputs": [],
   "source": [
    "# Calculating time\n",
    "train['pickup_datetime'] = pd.to_datetime(train['pickup_datetime'])\n",
    "train['dropoff_datetime'] = pd.to_datetime(train['dropoff_datetime'])\n",
    "\n",
    "test['pickup_datetime'] = pd.to_datetime(test['pickup_datetime'])\n",
    "test['dropoff_datetime'] = pd.to_datetime(test['dropoff_datetime'])\n",
    "\n"
   ]
  },
  {
   "cell_type": "code",
   "execution_count": 11,
   "metadata": {
    "collapsed": true
   },
   "outputs": [],
   "source": [
    "train['time_elapsed'] = (train['dropoff_datetime'] - train['pickup_datetime']).astype('timedelta64[m]')\n",
    "test['time_elapsed'] = (test['dropoff_datetime'] - test['pickup_datetime']).astype('timedelta64[m]')"
   ]
  },
  {
   "cell_type": "code",
   "execution_count": 12,
   "metadata": {
    "collapsed": true
   },
   "outputs": [],
   "source": [
    "train['year'] = train['pickup_datetime'].dt.year\n",
    "test['year'] = test['pickup_datetime'].dt.year\n",
    "\n",
    "train['dayofweek'] = train['pickup_datetime'].dt.dayofweek\n",
    "test['dayofweek'] = test['pickup_datetime'].dt.dayofweek\n",
    "\n",
    "train['hour'] = train['pickup_datetime'].dt.hour\n",
    "test['hour'] = test['pickup_datetime'].dt.hour\n"
   ]
  },
  {
   "cell_type": "code",
   "execution_count": 13,
   "metadata": {
    "collapsed": true
   },
   "outputs": [],
   "source": [
    "def haversine_np(lon1, lat1, lon2, lat2):\n",
    "    \"\"\"\n",
    "    Calculate the great circle distance between two points\n",
    "    on the earth (specified in decimal degrees)\n",
    "\n",
    "    All args must be of equal length.    \n",
    "\n",
    "    \"\"\"\n",
    "    lon1, lat1, lon2, lat2 = map(np.radians, [lon1, lat1, lon2, lat2])\n",
    "\n",
    "    dlon = lon2 - lon1\n",
    "    dlat = lat2 - lat1\n",
    "\n",
    "    a = np.sin(dlat/2.0)**2 + np.cos(lat1) * np.cos(lat2) * np.sin(dlon/2.0)**2\n",
    "\n",
    "    c = 2 * np.arcsin(np.sqrt(a))\n",
    "    km = 6367 * c\n",
    "    return km"
   ]
  },
  {
   "cell_type": "code",
   "execution_count": 14,
   "metadata": {
    "collapsed": true,
    "scrolled": true
   },
   "outputs": [],
   "source": [
    "train['distance'] = haversine_np(train['pickup_longitude'], train['pickup_latitude'], train['dropoff_longitude'], train['dropoff_latitude'])\n",
    "test['distance'] = haversine_np(test['pickup_longitude'], test['pickup_latitude'], test['dropoff_longitude'], test['dropoff_latitude'])"
   ]
  },
  {
   "cell_type": "code",
   "execution_count": 15,
   "metadata": {
    "collapsed": true
   },
   "outputs": [],
   "source": [
    "train['ne_user'] = train['new_user']=='YES'\n",
    "test['ne_user'] = test['new_user']=='YES'"
   ]
  },
  {
   "cell_type": "code",
   "execution_count": 16,
   "metadata": {
    "collapsed": true
   },
   "outputs": [],
   "source": [
    "# drop_cols = ['year','TID','pickup_longitude','pickup_latitude','dropoff_longitude','dropoff_latitude','pickup_datetime','dropoff_datetime','store_and_fwd_flag', 'new_user']                   \n",
    "drop_cols = ['TID','pickup_datetime','dropoff_datetime','store_and_fwd_flag', 'new_user']                   \n",
    "train = train.drop(labels=drop_cols, axis=1)\n",
    "test = test.drop(labels=drop_cols, axis=1)"
   ]
  },
  {
   "cell_type": "code",
   "execution_count": 17,
   "metadata": {
    "collapsed": true
   },
   "outputs": [],
   "source": [
    "from sklearn.ensemble import RandomForestRegressor"
   ]
  },
  {
   "cell_type": "code",
   "execution_count": null,
   "metadata": {
    "collapsed": true
   },
   "outputs": [],
   "source": [
    "model = RandomForestRegressor(n_estimators=80, n_jobs=-1)\n",
    "model.fit(train, train_label)\n"
   ]
  },
  {
   "cell_type": "code",
   "execution_count": null,
   "metadata": {
    "collapsed": true
   },
   "outputs": [],
   "source": [
    "prediction = model.predict(test)"
   ]
  },
  {
   "cell_type": "code",
   "execution_count": null,
   "metadata": {
    "collapsed": true
   },
   "outputs": [],
   "source": [
    "subm_file = pd.read_csv('sample_submission.csv')"
   ]
  },
  {
   "cell_type": "code",
   "execution_count": null,
   "metadata": {
    "collapsed": true
   },
   "outputs": [],
   "source": [
    "subm_file['TID'] = TID\n",
    "subm_file['fare_amount'] = prediction"
   ]
  },
  {
   "cell_type": "code",
   "execution_count": null,
   "metadata": {
    "collapsed": true
   },
   "outputs": [],
   "source": [
    "subm_file.to_csv('final_submission.csv', index=False)"
   ]
  }
 ],
 "metadata": {
  "kernelspec": {
   "display_name": "Python 2",
   "language": "python",
   "name": "python2"
  },
  "language_info": {
   "codemirror_mode": {
    "name": "ipython",
    "version": 2
   },
   "file_extension": ".py",
   "mimetype": "text/x-python",
   "name": "python",
   "nbconvert_exporter": "python",
   "pygments_lexer": "ipython2",
   "version": "2.7.12"
  }
 },
 "nbformat": 4,
 "nbformat_minor": 2
}
