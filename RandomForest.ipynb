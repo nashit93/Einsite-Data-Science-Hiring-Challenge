{
 "cells": [
  {
   "cell_type": "code",
   "execution_count": 1,
   "metadata": {},
   "outputs": [
    {
     "name": "stderr",
     "output_type": "stream",
     "text": [
      "/usr/local/lib/python2.7/dist-packages/sklearn/cross_validation.py:44: DeprecationWarning: This module was deprecated in version 0.18 in favor of the model_selection module into which all the refactored classes and functions are moved. Also note that the interface of the new CV iterators are different from that of this module. This module will be removed in 0.20.\n",
      "  \"This module will be removed in 0.20.\", DeprecationWarning)\n"
     ]
    }
   ],
   "source": [
    "%matplotlib inline\n",
    "import numpy as np\n",
    "import pandas as pd\n",
    "import matplotlib.pyplot as plt\n",
    "import geopy.distance as gp\n",
    "import math\n",
    "from datetime import datetime\n",
    "import xgboost as xgb"
   ]
  },
  {
   "cell_type": "code",
   "execution_count": 2,
   "metadata": {
    "collapsed": true
   },
   "outputs": [],
   "source": [
    "train = pd.read_csv('train.csv')\n",
    "test = pd.read_csv('test.csv')\n",
    "pd.set_option('display.width', 150)"
   ]
  },
  {
   "cell_type": "code",
   "execution_count": 3,
   "metadata": {
    "collapsed": true
   },
   "outputs": [],
   "source": [
    "train['new_user'].fillna('NO', inplace=True)\n",
    "test['new_user'].fillna('NO', inplace=True)\n",
    "\n",
    "train['tip_amount'].fillna(train['tip_amount'].median(), inplace=True)\n",
    "test['tip_amount'].fillna(test['tip_amount'].median(), inplace=True)\n",
    "\n",
    "train['pickup_longitude'].fillna(train['pickup_longitude'].mode()[0], inplace=True)\n",
    "test['pickup_longitude'].fillna(test['pickup_longitude'].mode()[0], inplace=True)\n",
    "\n",
    "train['pickup_latitude'].fillna(train['pickup_latitude'].mode()[0], inplace=True)\n",
    "test['pickup_latitude'].fillna(test['pickup_latitude'].mode()[0], inplace=True)\n",
    "\n",
    "train['dropoff_longitude'].fillna(train['dropoff_longitude'].mode()[0], inplace=True)\n",
    "test['dropoff_longitude'].fillna(test['dropoff_longitude'].mode()[0], inplace=True)\n",
    "\n",
    "train['dropoff_latitude'].fillna(train['dropoff_latitude'].mode()[0], inplace=True)\n",
    "test['dropoff_latitude'].fillna(test['dropoff_latitude'].mode()[0], inplace=True)"
   ]
  },
  {
   "cell_type": "code",
   "execution_count": 4,
   "metadata": {
    "collapsed": true
   },
   "outputs": [],
   "source": [
    "train['surcharge'].fillna(train['surcharge'].median(), inplace=True)\n",
    "test['surcharge'].fillna(test['surcharge'].median(), inplace=True)"
   ]
  },
  {
   "cell_type": "code",
   "execution_count": 5,
   "metadata": {
    "collapsed": true
   },
   "outputs": [],
   "source": [
    "drop_col = ['TID', 'store_and_fwd_flag']"
   ]
  },
  {
   "cell_type": "code",
   "execution_count": 6,
   "metadata": {},
   "outputs": [
    {
     "data": {
      "text/plain": [
       "{'dropoff_datetime',\n",
       " 'dropoff_latitude',\n",
       " 'dropoff_longitude',\n",
       " 'fare_amount',\n",
       " 'mta_tax',\n",
       " 'new_user',\n",
       " 'passenger_count',\n",
       " 'payment_type',\n",
       " 'pickup_datetime',\n",
       " 'pickup_latitude',\n",
       " 'pickup_longitude',\n",
       " 'rate_code',\n",
       " 'surcharge',\n",
       " 'tip_amount',\n",
       " 'tolls_amount',\n",
       " 'vendor_id'}"
      ]
     },
     "execution_count": 6,
     "metadata": {},
     "output_type": "execute_result"
    }
   ],
   "source": [
    "set(train.columns) - set(drop_col)"
   ]
  },
  {
   "cell_type": "code",
   "execution_count": 7,
   "metadata": {
    "collapsed": true
   },
   "outputs": [],
   "source": [
    "cate_vars = ['vendor_id', 'payment_type']\n",
    "one_hot_train = pd.get_dummies(train[cate_vars])\n",
    "one_hot_test = pd.get_dummies(test[cate_vars])\n",
    "     "
   ]
  },
  {
   "cell_type": "code",
   "execution_count": 8,
   "metadata": {},
   "outputs": [
    {
     "name": "stdout",
     "output_type": "stream",
     "text": [
      "(1658099, 15)\n",
      "(509808, 15)\n"
     ]
    }
   ],
   "source": [
    "cols = list(test.columns)\n",
    "\n",
    "train_label = train['fare_amount']\n",
    "\n",
    "train = train[list(set(cols) - set(cate_vars))]\n",
    "test = test[list(set(cols) - set(cate_vars))]\n",
    "print train.shape\n",
    "print test.shape"
   ]
  },
  {
   "cell_type": "code",
   "execution_count": 9,
   "metadata": {
    "collapsed": true
   },
   "outputs": [],
   "source": [
    "train = pd.concat([train, one_hot_train], axis=1)\n",
    "test = pd.concat([test, one_hot_test], axis=1)"
   ]
  },
  {
   "cell_type": "code",
   "execution_count": 10,
   "metadata": {
    "collapsed": true
   },
   "outputs": [],
   "source": [
    "col1 = set(train.columns)\n",
    "col2 = set(test.columns)\n",
    "temp = list(col1.intersection(col2))\n",
    "train = train[temp]\n",
    "test = test[temp]"
   ]
  },
  {
   "cell_type": "code",
   "execution_count": 11,
   "metadata": {
    "collapsed": true
   },
   "outputs": [],
   "source": [
    "# Calculating time\n",
    "train['pickup_datetime'] = pd.to_datetime(train['pickup_datetime'])\n",
    "train['dropoff_datetime'] = pd.to_datetime(train['dropoff_datetime'])\n",
    "\n",
    "test['pickup_datetime'] = pd.to_datetime(test['pickup_datetime'])\n",
    "test['dropoff_datetime'] = pd.to_datetime(test['dropoff_datetime'])\n",
    "\n"
   ]
  },
  {
   "cell_type": "code",
   "execution_count": 12,
   "metadata": {
    "collapsed": true
   },
   "outputs": [],
   "source": [
    "train['time_elapsed'] = (train['dropoff_datetime'] - train['pickup_datetime']).astype('timedelta64[m]')\n",
    "test['time_elapsed'] = (test['dropoff_datetime'] - test['pickup_datetime']).astype('timedelta64[m]')"
   ]
  },
  {
   "cell_type": "code",
   "execution_count": 13,
   "metadata": {
    "collapsed": true
   },
   "outputs": [],
   "source": [
    "train['year'] = train['pickup_datetime'].dt.year\n",
    "test['year'] = test['pickup_datetime'].dt.year\n",
    "\n",
    "# train['month'] = train['pickup_datetime'].dt.month\n",
    "# test['month'] = test['pickup_datetime'].dt.month\n",
    "\n",
    "# train['day'] = train['pickup_datetime'].dt.day\n",
    "# test['day'] = test['pickup_datetime'].dt.day\n",
    "\n",
    "train['dayofweek'] = train['pickup_datetime'].dt.dayofweek\n",
    "test['dayofweek'] = test['pickup_datetime'].dt.dayofweek\n",
    "\n",
    "train['hour'] = train['pickup_datetime'].dt.hour\n",
    "test['hour'] = test['pickup_datetime'].dt.hour\n"
   ]
  },
  {
   "cell_type": "code",
   "execution_count": 14,
   "metadata": {
    "collapsed": true
   },
   "outputs": [],
   "source": [
    "def haversine_np(lon1, lat1, lon2, lat2):\n",
    "    \"\"\"\n",
    "    Calculate the great circle distance between two points\n",
    "    on the earth (specified in decimal degrees)\n",
    "\n",
    "    All args must be of equal length.    \n",
    "\n",
    "    \"\"\"\n",
    "    lon1, lat1, lon2, lat2 = map(np.radians, [lon1, lat1, lon2, lat2])\n",
    "\n",
    "    dlon = lon2 - lon1\n",
    "    dlat = lat2 - lat1\n",
    "\n",
    "    a = np.sin(dlat/2.0)**2 + np.cos(lat1) * np.cos(lat2) * np.sin(dlon/2.0)**2\n",
    "\n",
    "    c = 2 * np.arcsin(np.sqrt(a))\n",
    "    km = 6367 * c\n",
    "    return km"
   ]
  },
  {
   "cell_type": "code",
   "execution_count": 15,
   "metadata": {
    "collapsed": true,
    "scrolled": true
   },
   "outputs": [],
   "source": [
    "train['distance'] = haversine_np(train['pickup_longitude'], train['pickup_latitude'], train['dropoff_longitude'], train['dropoff_latitude'])\n",
    "test['distance'] = haversine_np(test['pickup_longitude'], test['pickup_latitude'], test['dropoff_longitude'], test['dropoff_latitude'])\n"
   ]
  },
  {
   "cell_type": "code",
   "execution_count": 16,
   "metadata": {},
   "outputs": [
    {
     "data": {
      "text/plain": [
       "payment_type_DIS                uint8\n",
       "TID                            object\n",
       "rate_code                       int64\n",
       "surcharge                     float64\n",
       "payment_type_UNK                uint8\n",
       "pickup_longitude              float64\n",
       "payment_type_CSH                uint8\n",
       "vendor_id_DST000543             uint8\n",
       "dropoff_latitude              float64\n",
       "tolls_amount                  float64\n",
       "pickup_datetime        datetime64[ns]\n",
       "tip_amount                    float64\n",
       "new_user                       object\n",
       "mta_tax                       float64\n",
       "dropoff_datetime       datetime64[ns]\n",
       "vendor_id_DST000481             uint8\n",
       "dropoff_longitude             float64\n",
       "passenger_count                 int64\n",
       "payment_type_NOC                uint8\n",
       "payment_type_CRD                uint8\n",
       "store_and_fwd_flag             object\n",
       "pickup_latitude               float64\n",
       "time_elapsed                  float64\n",
       "year                            int64\n",
       "dayofweek                       int64\n",
       "hour                            int64\n",
       "distance                      float64\n",
       "dtype: object"
      ]
     },
     "execution_count": 16,
     "metadata": {},
     "output_type": "execute_result"
    }
   ],
   "source": [
    "train.dtypes"
   ]
  },
  {
   "cell_type": "code",
   "execution_count": 17,
   "metadata": {
    "collapsed": true
   },
   "outputs": [],
   "source": [
    "# print np.sum((train['new_user']=='YES') &  (train['year']==2016))\n",
    "# print np.sum(train['new_user']=='YES')\n",
    "# print np.sum(train['year']==2016)\n",
    "# print np.sum(test['new_user']=='NO')\n"
   ]
  },
  {
   "cell_type": "code",
   "execution_count": 18,
   "metadata": {
    "collapsed": true
   },
   "outputs": [],
   "source": [
    "train['ne_user'] = train['new_user']=='YES'\n",
    "test['ne_user'] = test['new_user']=='YES'"
   ]
  },
  {
   "cell_type": "code",
   "execution_count": 19,
   "metadata": {
    "collapsed": true
   },
   "outputs": [],
   "source": [
    "# drop_cols = ['year','TID','pickup_longitude','pickup_latitude','dropoff_longitude','dropoff_latitude','pickup_datetime','dropoff_datetime','store_and_fwd_flag', 'new_user']                   \n",
    "drop_cols = ['TID','pickup_datetime','dropoff_datetime','store_and_fwd_flag', 'new_user']                   \n",
    "train = train.drop(labels=drop_cols, axis=1)\n",
    "test = test.drop(labels=drop_cols, axis=1)"
   ]
  },
  {
   "cell_type": "code",
   "execution_count": 20,
   "metadata": {
    "collapsed": true
   },
   "outputs": [],
   "source": [
    "from sklearn.linear_model import Ridge\n",
    "from sklearn.model_selection import KFold\n",
    "from sklearn.model_selection import cross_val_score\n",
    "from sklearn.tree import DecisionTreeRegressor\n",
    "from sklearn.ensemble import RandomForestRegressor\n",
    "from sklearn.ensemble import AdaBoostRegressor"
   ]
  },
  {
   "cell_type": "code",
   "execution_count": 23,
   "metadata": {
    "collapsed": true
   },
   "outputs": [],
   "source": [
    "# RandomForest CV\n",
    "# model = RandomForestRegressor(n_estimators=40, max_features = 'sqrt',min_samples_split=10, n_jobs=-1)\n",
    "# kfold = KFold(n_splits=5, random_state=7)\n",
    "# scoring = 'neg_mean_absolute_error'\n",
    "# results = cross_val_score(model, train, train_label, cv=kfold, scoring=scoring)\n",
    "# results"
   ]
  },
  {
   "cell_type": "code",
   "execution_count": 23,
   "metadata": {},
   "outputs": [
    {
     "name": "stdout",
     "output_type": "stream",
     "text": [
      "-3.80203594266\n"
     ]
    }
   ],
   "source": [
    "# # AdaBoost CV\n",
    "# model = AdaBoostRegressor(n_estimators=100, learning_rate=0.05, )\n",
    "# kfold = KFold(n_splits=5, random_state=7)\n",
    "# scoring = 'neg_mean_absolute_error'\n",
    "# results = cross_val_score(model, train, train_label, cv=kfold, scoring=scoring)\n",
    "# print results.mean()"
   ]
  },
  {
   "cell_type": "code",
   "execution_count": 24,
   "metadata": {},
   "outputs": [
    {
     "name": "stdout",
     "output_type": "stream",
     "text": [
      "-5.61689717767\n"
     ]
    }
   ],
   "source": [
    "# # AdaBoost CV\n",
    "# model = AdaBoostRegressor(n_estimators=50, learning_rate=1, )\n",
    "# kfold = KFold(n_splits=5, random_state=7)\n",
    "# scoring = 'neg_mean_absolute_error'\n",
    "# results = cross_val_score(model, train, train_label, cv=kfold, scoring=scoring)\n",
    "# print results.mean()"
   ]
  },
  {
   "cell_type": "code",
   "execution_count": null,
   "metadata": {},
   "outputs": [
    {
     "data": {
      "text/plain": [
       "RandomForestRegressor(bootstrap=True, criterion='mse', max_depth=None,\n",
       "           max_features='auto', max_leaf_nodes=None,\n",
       "           min_impurity_split=1e-07, min_samples_leaf=1,\n",
       "           min_samples_split=2, min_weight_fraction_leaf=0.0,\n",
       "           n_estimators=80, n_jobs=-1, oob_score=False, random_state=None,\n",
       "           verbose=0, warm_start=False)"
      ]
     },
     "execution_count": 21,
     "metadata": {},
     "output_type": "execute_result"
    }
   ],
   "source": [
    "model = RandomForestRegressor(n_estimators=80, n_jobs=-1)\n",
    "model.fit(train, train_label)\n"
   ]
  },
  {
   "cell_type": "code",
   "execution_count": null,
   "metadata": {
    "collapsed": true
   },
   "outputs": [],
   "source": [
    "prediction = model.predict(test)"
   ]
  },
  {
   "cell_type": "code",
   "execution_count": null,
   "metadata": {
    "collapsed": true
   },
   "outputs": [],
   "source": [
    "subm_file = pd.read_csv('sample_submission.csv')"
   ]
  },
  {
   "cell_type": "code",
   "execution_count": null,
   "metadata": {
    "collapsed": true
   },
   "outputs": [],
   "source": [
    "temp = pd.read_csv('test.csv')"
   ]
  },
  {
   "cell_type": "code",
   "execution_count": null,
   "metadata": {
    "collapsed": true
   },
   "outputs": [],
   "source": [
    "subm_file['TID'] = temp['TID']\n",
    "subm_file['fare_amount'] = prediction"
   ]
  },
  {
   "cell_type": "code",
   "execution_count": null,
   "metadata": {
    "collapsed": true
   },
   "outputs": [],
   "source": [
    "subm_file.to_csv('subm_file8.csv', index=False)"
   ]
  },
  {
   "cell_type": "code",
   "execution_count": null,
   "metadata": {
    "collapsed": true
   },
   "outputs": [],
   "source": [
    "# # Other Stuff\n",
    "# f1 = pd.read_csv('subm_file8.csv')\n",
    "# f1['fare_amount'][test['distance']==0] = f1['fare_amount'].median()\n",
    "# f1.to_csv('dist_zero.csv', index=False)"
   ]
  },
  {
   "cell_type": "code",
   "execution_count": null,
   "metadata": {
    "collapsed": true
   },
   "outputs": [],
   "source": []
  }
 ],
 "metadata": {
  "kernelspec": {
   "display_name": "Python 2",
   "language": "python",
   "name": "python2"
  },
  "language_info": {
   "codemirror_mode": {
    "name": "ipython",
    "version": 2
   },
   "file_extension": ".py",
   "mimetype": "text/x-python",
   "name": "python",
   "nbconvert_exporter": "python",
   "pygments_lexer": "ipython2",
   "version": "2.7.12"
  }
 },
 "nbformat": 4,
 "nbformat_minor": 2
}
