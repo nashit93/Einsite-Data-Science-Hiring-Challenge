{
 "cells": [
  {
   "cell_type": "code",
   "execution_count": 4,
   "metadata": {},
   "outputs": [
    {
     "ename": "ImportError",
     "evalue": "No module named basemap",
     "output_type": "error",
     "traceback": [
      "\u001b[0;31m---------------------------------------------------------------------------\u001b[0m",
      "\u001b[0;31mImportError\u001b[0m                               Traceback (most recent call last)",
      "\u001b[0;32m<ipython-input-4-87cc92fb7434>\u001b[0m in \u001b[0;36m<module>\u001b[0;34m()\u001b[0m\n\u001b[1;32m      7\u001b[0m \u001b[0;32mfrom\u001b[0m \u001b[0mdatetime\u001b[0m \u001b[0;32mimport\u001b[0m \u001b[0mdatetime\u001b[0m\u001b[0;34m\u001b[0m\u001b[0m\n\u001b[1;32m      8\u001b[0m \u001b[0;32mimport\u001b[0m \u001b[0mxgboost\u001b[0m \u001b[0;32mas\u001b[0m \u001b[0mxgb\u001b[0m\u001b[0;34m\u001b[0m\u001b[0m\n\u001b[0;32m----> 9\u001b[0;31m \u001b[0;32mfrom\u001b[0m \u001b[0mmpl_toolkits\u001b[0m\u001b[0;34m.\u001b[0m\u001b[0mbasemap\u001b[0m \u001b[0;32mimport\u001b[0m \u001b[0mBasemap\u001b[0m\u001b[0;34m\u001b[0m\u001b[0m\n\u001b[0m",
      "\u001b[0;31mImportError\u001b[0m: No module named basemap"
     ]
    }
   ],
   "source": [
    "%matplotlib inline\n",
    "import numpy as np\n",
    "import pandas as pd\n",
    "import matplotlib.pyplot as plt\n",
    "import geopy.distance as gp\n",
    "import math\n",
    "from datetime import datetime\n",
    "import xgboost as xgb\n",
    "from mpl_toolkits.basemap import Basemap"
   ]
  },
  {
   "cell_type": "code",
   "execution_count": 2,
   "metadata": {
    "collapsed": true
   },
   "outputs": [],
   "source": [
    "train = pd.read_csv('train.csv')\n",
    "test = pd.read_csv('test.csv')\n",
    "pd.set_option('display.width', 150)"
   ]
  },
  {
   "cell_type": "code",
   "execution_count": 3,
   "metadata": {},
   "outputs": [
    {
     "ename": "NameError",
     "evalue": "name 'Basemap' is not defined",
     "output_type": "error",
     "traceback": [
      "\u001b[0;31m---------------------------------------------------------------------------\u001b[0m",
      "\u001b[0;31mNameError\u001b[0m                                 Traceback (most recent call last)",
      "\u001b[0;32m<ipython-input-3-2c349d1d83b3>\u001b[0m in \u001b[0;36m<module>\u001b[0;34m()\u001b[0m\n\u001b[1;32m      3\u001b[0m \u001b[0;34m\u001b[0m\u001b[0m\n\u001b[1;32m      4\u001b[0m \u001b[0;31m# Mercator of World\u001b[0m\u001b[0;34m\u001b[0m\u001b[0;34m\u001b[0m\u001b[0m\n\u001b[0;32m----> 5\u001b[0;31m m1 = Basemap(projection='merc',\n\u001b[0m\u001b[1;32m      6\u001b[0m              \u001b[0mllcrnrlat\u001b[0m\u001b[0;34m=\u001b[0m\u001b[0;34m-\u001b[0m\u001b[0;36m60\u001b[0m\u001b[0;34m,\u001b[0m\u001b[0;34m\u001b[0m\u001b[0m\n\u001b[1;32m      7\u001b[0m              \u001b[0murcrnrlat\u001b[0m\u001b[0;34m=\u001b[0m\u001b[0;36m65\u001b[0m\u001b[0;34m,\u001b[0m\u001b[0;34m\u001b[0m\u001b[0m\n",
      "\u001b[0;31mNameError\u001b[0m: name 'Basemap' is not defined"
     ]
    },
    {
     "data": {
      "text/plain": [
       "<matplotlib.figure.Figure at 0x7f974df76150>"
      ]
     },
     "metadata": {},
     "output_type": "display_data"
    }
   ],
   "source": [
    "# Set up plot\n",
    "plt.figure(1, figsize=(12,6))\n",
    "\n",
    "# Mercator of World\n",
    "m1 = Basemap(projection='merc',\n",
    "             llcrnrlat=-60,\n",
    "             urcrnrlat=65,\n",
    "             llcrnrlon=-180,\n",
    "             urcrnrlon=180,\n",
    "             lat_ts=0,\n",
    "             resolution='c')\n",
    "\n",
    "m1.fillcontinents(color='#191919',lake_color='#000000') # dark grey land, black lakes\n",
    "m1.drawmapboundary(fill_color='#000000')                # black background\n",
    "m1.drawcountries(linewidth=0.1, color=\"w\")              # thin white line for country borders\n",
    "\n",
    "mxy = m1(train['pickup_longitude'].tolist(), train['pickup_latitude'].tolist())\n",
    "m1.scatter(mxy[0], mxy[1], s=3, c=\"#1292db\", lw=0, alpha=1, zorder=5)\n",
    "\n",
    "plt.title(\"Global view of events\")\n",
    "plt.show()"
   ]
  },
  {
   "cell_type": "code",
   "execution_count": 3,
   "metadata": {
    "collapsed": true
   },
   "outputs": [],
   "source": [
    "train['new_user'].fillna('NO', inplace=True)\n",
    "test['new_user'].fillna('NO', inplace=True)\n",
    "\n",
    "train['tip_amount'].fillna(train['tip_amount'].median(), inplace=True)\n",
    "test['tip_amount'].fillna(test['tip_amount'].median(), inplace=True)\n",
    "\n",
    "train['pickup_longitude'].fillna(train['pickup_longitude'].mode()[0], inplace=True)\n",
    "test['pickup_longitude'].fillna(test['pickup_longitude'].mode()[0], inplace=True)\n",
    "\n",
    "train['pickup_latitude'].fillna(train['pickup_latitude'].mode()[0], inplace=True)\n",
    "test['pickup_latitude'].fillna(test['pickup_latitude'].mode()[0], inplace=True)\n",
    "\n",
    "train['dropoff_longitude'].fillna(train['dropoff_longitude'].mode()[0], inplace=True)\n",
    "test['dropoff_longitude'].fillna(test['dropoff_longitude'].mode()[0], inplace=True)\n",
    "\n",
    "train['dropoff_latitude'].fillna(train['dropoff_latitude'].mode()[0], inplace=True)\n",
    "test['dropoff_latitude'].fillna(test['dropoff_latitude'].mode()[0], inplace=True)"
   ]
  },
  {
   "cell_type": "code",
   "execution_count": 4,
   "metadata": {
    "collapsed": true
   },
   "outputs": [],
   "source": [
    "train['surcharge'].fillna(train['surcharge'].median(), inplace=True)\n",
    "test['surcharge'].fillna(test['surcharge'].median(), inplace=True)"
   ]
  },
  {
   "cell_type": "code",
   "execution_count": 5,
   "metadata": {
    "collapsed": true
   },
   "outputs": [],
   "source": [
    "drop_col = ['TID', 'store_and_fwd_flag']"
   ]
  },
  {
   "cell_type": "code",
   "execution_count": 6,
   "metadata": {},
   "outputs": [
    {
     "data": {
      "text/plain": [
       "{'dropoff_datetime',\n",
       " 'dropoff_latitude',\n",
       " 'dropoff_longitude',\n",
       " 'fare_amount',\n",
       " 'mta_tax',\n",
       " 'new_user',\n",
       " 'passenger_count',\n",
       " 'payment_type',\n",
       " 'pickup_datetime',\n",
       " 'pickup_latitude',\n",
       " 'pickup_longitude',\n",
       " 'rate_code',\n",
       " 'surcharge',\n",
       " 'tip_amount',\n",
       " 'tolls_amount',\n",
       " 'vendor_id'}"
      ]
     },
     "execution_count": 6,
     "metadata": {},
     "output_type": "execute_result"
    }
   ],
   "source": [
    "set(train.columns) - set(drop_col)"
   ]
  },
  {
   "cell_type": "code",
   "execution_count": 7,
   "metadata": {
    "collapsed": true
   },
   "outputs": [],
   "source": [
    "cate_vars = ['vendor_id', 'payment_type']\n",
    "one_hot_train = pd.get_dummies(train[cate_vars])\n",
    "one_hot_test = pd.get_dummies(test[cate_vars])\n",
    "     "
   ]
  },
  {
   "cell_type": "code",
   "execution_count": 8,
   "metadata": {},
   "outputs": [
    {
     "name": "stdout",
     "output_type": "stream",
     "text": [
      "(1658099, 15)\n",
      "(509808, 15)\n"
     ]
    }
   ],
   "source": [
    "cols = list(test.columns)\n",
    "\n",
    "train_label = train['fare_amount']\n",
    "\n",
    "train = train[list(set(cols) - set(cate_vars))]\n",
    "test = test[list(set(cols) - set(cate_vars))]\n",
    "print train.shape\n",
    "print test.shape"
   ]
  },
  {
   "cell_type": "code",
   "execution_count": 9,
   "metadata": {
    "collapsed": true
   },
   "outputs": [],
   "source": [
    "train = pd.concat([train, one_hot_train], axis=1)\n",
    "test = pd.concat([test, one_hot_test], axis=1)"
   ]
  },
  {
   "cell_type": "code",
   "execution_count": 10,
   "metadata": {
    "collapsed": true
   },
   "outputs": [],
   "source": [
    "col1 = set(train.columns)\n",
    "col2 = set(test.columns)\n",
    "temp = list(col1.intersection(col2))\n",
    "train = train[temp]\n",
    "test = test[temp]"
   ]
  },
  {
   "cell_type": "code",
   "execution_count": 11,
   "metadata": {
    "collapsed": true
   },
   "outputs": [],
   "source": [
    "# Calculating time\n",
    "train['pickup_datetime'] = pd.to_datetime(train['pickup_datetime'])\n",
    "train['dropoff_datetime'] = pd.to_datetime(train['dropoff_datetime'])\n",
    "\n",
    "test['pickup_datetime'] = pd.to_datetime(test['pickup_datetime'])\n",
    "test['dropoff_datetime'] = pd.to_datetime(test['dropoff_datetime'])\n",
    "\n"
   ]
  },
  {
   "cell_type": "code",
   "execution_count": 12,
   "metadata": {
    "collapsed": true
   },
   "outputs": [],
   "source": [
    "train['time_elapsed'] = (train['dropoff_datetime'] - train['pickup_datetime']).astype('timedelta64[m]')\n",
    "test['time_elapsed'] = (test['dropoff_datetime'] - test['pickup_datetime']).astype('timedelta64[m]')"
   ]
  },
  {
   "cell_type": "code",
   "execution_count": 13,
   "metadata": {
    "collapsed": true
   },
   "outputs": [],
   "source": [
    "train['year'] = train['pickup_datetime'].dt.year\n",
    "test['year'] = test['pickup_datetime'].dt.year\n",
    "\n",
    "# train['month'] = train['pickup_datetime'].dt.month\n",
    "# test['month'] = test['pickup_datetime'].dt.month\n",
    "\n",
    "# train['day'] = train['pickup_datetime'].dt.day\n",
    "# test['day'] = test['pickup_datetime'].dt.day\n",
    "\n",
    "train['dayofweek'] = train['pickup_datetime'].dt.dayofweek\n",
    "test['dayofweek'] = test['pickup_datetime'].dt.dayofweek\n",
    "\n",
    "train['hour'] = train['pickup_datetime'].dt.hour\n",
    "test['hour'] = test['pickup_datetime'].dt.hour\n",
    "\n",
    "yr15 = train['year']<=2015\n",
    "yr16 = train['year']>2015"
   ]
  },
  {
   "cell_type": "code",
   "execution_count": 14,
   "metadata": {
    "collapsed": true
   },
   "outputs": [],
   "source": [
    "def haversine_np(lon1, lat1, lon2, lat2):\n",
    "    \"\"\"\n",
    "    Calculate the great circle distance between two points\n",
    "    on the earth (specified in decimal degrees)\n",
    "\n",
    "    All args must be of equal length.    \n",
    "\n",
    "    \"\"\"\n",
    "    lon1, lat1, lon2, lat2 = map(np.radians, [lon1, lat1, lon2, lat2])\n",
    "\n",
    "    dlon = lon2 - lon1\n",
    "    dlat = lat2 - lat1\n",
    "\n",
    "    a = np.sin(dlat/2.0)**2 + np.cos(lat1) * np.cos(lat2) * np.sin(dlon/2.0)**2\n",
    "\n",
    "    c = 2 * np.arcsin(np.sqrt(a))\n",
    "    km = 6367 * c\n",
    "    return km"
   ]
  },
  {
   "cell_type": "code",
   "execution_count": 15,
   "metadata": {
    "collapsed": true,
    "scrolled": true
   },
   "outputs": [],
   "source": [
    "train['distance'] = haversine_np(train['pickup_longitude'], train['pickup_latitude'], train['dropoff_longitude'], train['dropoff_latitude'])\n",
    "test['distance'] = haversine_np(test['pickup_longitude'], test['pickup_latitude'], test['dropoff_longitude'], test['dropoff_latitude'])\n",
    "# train['distance'][train['distance']>500].count()"
   ]
  },
  {
   "cell_type": "code",
   "execution_count": 16,
   "metadata": {
    "scrolled": true
   },
   "outputs": [
    {
     "data": {
      "text/plain": [
       "payment_type_DIS                uint8\n",
       "TID                            object\n",
       "rate_code                       int64\n",
       "surcharge                     float64\n",
       "payment_type_UNK                uint8\n",
       "pickup_longitude              float64\n",
       "payment_type_CSH                uint8\n",
       "vendor_id_DST000543             uint8\n",
       "dropoff_latitude              float64\n",
       "tolls_amount                  float64\n",
       "pickup_datetime        datetime64[ns]\n",
       "tip_amount                    float64\n",
       "new_user                       object\n",
       "mta_tax                       float64\n",
       "dropoff_datetime       datetime64[ns]\n",
       "vendor_id_DST000481             uint8\n",
       "dropoff_longitude             float64\n",
       "passenger_count                 int64\n",
       "payment_type_NOC                uint8\n",
       "payment_type_CRD                uint8\n",
       "store_and_fwd_flag             object\n",
       "pickup_latitude               float64\n",
       "time_elapsed                  float64\n",
       "year                            int64\n",
       "dayofweek                       int64\n",
       "hour                            int64\n",
       "distance                      float64\n",
       "dtype: object"
      ]
     },
     "execution_count": 16,
     "metadata": {},
     "output_type": "execute_result"
    }
   ],
   "source": [
    "train.dtypes\n"
   ]
  },
  {
   "cell_type": "code",
   "execution_count": 17,
   "metadata": {
    "collapsed": true
   },
   "outputs": [],
   "source": [
    "# drop_cols = ['year','TID','pickup_longitude','pickup_latitude','dropoff_longitude','dropoff_latitude','pickup_datetime','dropoff_datetime','store_and_fwd_flag', 'new_user']                   \n",
    "drop_cols = ['TID','pickup_datetime','dropoff_datetime','store_and_fwd_flag', 'new_user']                   \n",
    "train = train.drop(labels=drop_cols, axis=1)\n",
    "test = test.drop(labels=drop_cols, axis=1)"
   ]
  },
  {
   "cell_type": "code",
   "execution_count": 18,
   "metadata": {
    "collapsed": true,
    "scrolled": true
   },
   "outputs": [],
   "source": [
    "training = train[yr15]\n",
    "validation = train[yr16]\n",
    "\n",
    "training_lab = train_label[yr15]\n",
    "validation_lab = train_label[yr16]\n"
   ]
  },
  {
   "cell_type": "code",
   "execution_count": 19,
   "metadata": {
    "collapsed": true
   },
   "outputs": [],
   "source": [
    "preds = train.columns"
   ]
  },
  {
   "cell_type": "code",
   "execution_count": 20,
   "metadata": {
    "collapsed": true
   },
   "outputs": [],
   "source": [
    "DM_train = xgb.DMatrix(train, train_label, feature_names=preds)\n",
    "DM_training = xgb.DMatrix(training, training_lab, feature_names=preds)\n",
    "DM_validation = xgb.DMatrix(validation, validation_lab, feature_names=preds)\n",
    "DM_test = xgb.DMatrix(test, feature_names=preds)"
   ]
  },
  {
   "cell_type": "code",
   "execution_count": 23,
   "metadata": {
    "collapsed": true
   },
   "outputs": [],
   "source": [
    "xgb_params = {\n",
    "    'eta': 0.05,\n",
    "    'max_depth': 7,\n",
    "    'subsample': 0.7,\n",
    "    'colsample_bytree': 0.7,\n",
    "    'objective': 'reg:linear',\n",
    "    'eval_metric': 'mae',\n",
    "    'min_child_weight':1,\n",
    "    'silent': 1,\n",
    "    'seed':2017, \n",
    "    'nthread':4\n",
    "}\n"
   ]
  },
  {
   "cell_type": "code",
   "execution_count": null,
   "metadata": {},
   "outputs": [
    {
     "name": "stdout",
     "output_type": "stream",
     "text": [
      "[0]\tTrain-mae:13.9975\tValidation-mae:14.2632\n",
      "Multiple eval metrics have been passed: 'Validation-mae' will be used for early stopping.\n",
      "\n",
      "Will train until Validation-mae hasn't improved in 50 rounds.\n",
      "[5]\tTrain-mae:10.8377\tValidation-mae:11.0991\n",
      "[10]\tTrain-mae:8.40248\tValidation-mae:8.66967\n",
      "[15]\tTrain-mae:6.52584\tValidation-mae:6.79923\n",
      "[20]\tTrain-mae:5.0804\tValidation-mae:5.35847\n",
      "[25]\tTrain-mae:3.96714\tValidation-mae:4.25365\n",
      "[30]\tTrain-mae:3.12381\tValidation-mae:3.40287\n",
      "[35]\tTrain-mae:2.47988\tValidation-mae:2.74908\n",
      "[40]\tTrain-mae:1.99521\tValidation-mae:2.25377\n",
      "[45]\tTrain-mae:1.64294\tValidation-mae:1.88489\n",
      "[50]\tTrain-mae:1.39088\tValidation-mae:1.61459\n",
      "[55]\tTrain-mae:1.22078\tValidation-mae:1.42203\n",
      "[60]\tTrain-mae:1.10671\tValidation-mae:1.28462\n",
      "[65]\tTrain-mae:1.03127\tValidation-mae:1.18816\n",
      "[70]\tTrain-mae:0.982434\tValidation-mae:1.12048\n",
      "[75]\tTrain-mae:0.952076\tValidation-mae:1.0722\n",
      "[80]\tTrain-mae:0.930558\tValidation-mae:1.03621\n",
      "[85]\tTrain-mae:0.916319\tValidation-mae:1.01156\n",
      "[90]\tTrain-mae:0.906956\tValidation-mae:0.994061\n",
      "[95]\tTrain-mae:0.898583\tValidation-mae:0.979871\n",
      "[100]\tTrain-mae:0.892828\tValidation-mae:0.970771\n",
      "[105]\tTrain-mae:0.887726\tValidation-mae:0.962809\n",
      "[110]\tTrain-mae:0.883572\tValidation-mae:0.956408\n",
      "[115]\tTrain-mae:0.879808\tValidation-mae:0.951131\n",
      "[120]\tTrain-mae:0.8765\tValidation-mae:0.946492\n",
      "[125]\tTrain-mae:0.873669\tValidation-mae:0.943435\n",
      "[130]\tTrain-mae:0.871516\tValidation-mae:0.940648\n",
      "[135]\tTrain-mae:0.868884\tValidation-mae:0.937911\n",
      "[140]\tTrain-mae:0.866991\tValidation-mae:0.936384\n",
      "[145]\tTrain-mae:0.864974\tValidation-mae:0.935274\n",
      "[150]\tTrain-mae:0.863558\tValidation-mae:0.934304\n",
      "[155]\tTrain-mae:0.862202\tValidation-mae:0.934061\n",
      "[160]\tTrain-mae:0.86061\tValidation-mae:0.933181\n",
      "[165]\tTrain-mae:0.858644\tValidation-mae:0.9318\n",
      "[170]\tTrain-mae:0.857791\tValidation-mae:0.931407\n",
      "[175]\tTrain-mae:0.856793\tValidation-mae:0.93055\n",
      "[180]\tTrain-mae:0.855755\tValidation-mae:0.929982\n",
      "[185]\tTrain-mae:0.855132\tValidation-mae:0.929611\n",
      "[190]\tTrain-mae:0.853958\tValidation-mae:0.929088\n",
      "[195]\tTrain-mae:0.852626\tValidation-mae:0.928977\n",
      "[200]\tTrain-mae:0.850601\tValidation-mae:0.927809\n",
      "[205]\tTrain-mae:0.849525\tValidation-mae:0.927241\n",
      "[210]\tTrain-mae:0.848891\tValidation-mae:0.926916\n",
      "[215]\tTrain-mae:0.848391\tValidation-mae:0.926488\n",
      "[220]\tTrain-mae:0.84756\tValidation-mae:0.92599\n",
      "[225]\tTrain-mae:0.846884\tValidation-mae:0.925897\n",
      "[230]\tTrain-mae:0.845818\tValidation-mae:0.925325\n",
      "[235]\tTrain-mae:0.844322\tValidation-mae:0.924562\n",
      "[240]\tTrain-mae:0.843828\tValidation-mae:0.924286\n",
      "[245]\tTrain-mae:0.84296\tValidation-mae:0.924158\n",
      "[250]\tTrain-mae:0.842109\tValidation-mae:0.923722\n",
      "[255]\tTrain-mae:0.841347\tValidation-mae:0.923573\n",
      "[260]\tTrain-mae:0.840265\tValidation-mae:0.923253\n",
      "[265]\tTrain-mae:0.838357\tValidation-mae:0.922617\n",
      "[270]\tTrain-mae:0.837618\tValidation-mae:0.922351\n",
      "[275]\tTrain-mae:0.836863\tValidation-mae:0.922339\n",
      "[280]\tTrain-mae:0.836177\tValidation-mae:0.922136\n",
      "[285]\tTrain-mae:0.835631\tValidation-mae:0.922356\n",
      "[290]\tTrain-mae:0.83469\tValidation-mae:0.922047\n",
      "[295]\tTrain-mae:0.833424\tValidation-mae:0.921649\n",
      "[300]\tTrain-mae:0.833063\tValidation-mae:0.92168\n",
      "[305]\tTrain-mae:0.832353\tValidation-mae:0.921356\n",
      "[310]\tTrain-mae:0.831801\tValidation-mae:0.921177\n",
      "[315]\tTrain-mae:0.830859\tValidation-mae:0.921074\n",
      "[320]\tTrain-mae:0.829779\tValidation-mae:0.920575\n",
      "[325]\tTrain-mae:0.828678\tValidation-mae:0.919914\n",
      "[330]\tTrain-mae:0.828182\tValidation-mae:0.919649\n",
      "[335]\tTrain-mae:0.827391\tValidation-mae:0.919299\n",
      "[340]\tTrain-mae:0.826373\tValidation-mae:0.919231\n",
      "[345]\tTrain-mae:0.825184\tValidation-mae:0.918785\n",
      "[350]\tTrain-mae:0.824138\tValidation-mae:0.918478\n",
      "[355]\tTrain-mae:0.823272\tValidation-mae:0.917873\n",
      "[360]\tTrain-mae:0.822655\tValidation-mae:0.91768\n",
      "[365]\tTrain-mae:0.822217\tValidation-mae:0.917446\n",
      "[370]\tTrain-mae:0.820739\tValidation-mae:0.916294\n",
      "[375]\tTrain-mae:0.819768\tValidation-mae:0.915896\n",
      "[380]\tTrain-mae:0.819231\tValidation-mae:0.915996\n",
      "[385]\tTrain-mae:0.817756\tValidation-mae:0.915098\n",
      "[390]\tTrain-mae:0.81703\tValidation-mae:0.915109\n",
      "[395]\tTrain-mae:0.816352\tValidation-mae:0.915105\n",
      "[400]\tTrain-mae:0.815785\tValidation-mae:0.914765\n",
      "[405]\tTrain-mae:0.814752\tValidation-mae:0.914347\n",
      "[410]\tTrain-mae:0.814124\tValidation-mae:0.91407\n",
      "[415]\tTrain-mae:0.813592\tValidation-mae:0.91396\n",
      "[420]\tTrain-mae:0.812787\tValidation-mae:0.913868\n",
      "[425]\tTrain-mae:0.811932\tValidation-mae:0.913564\n",
      "[430]\tTrain-mae:0.811138\tValidation-mae:0.913244\n",
      "[435]\tTrain-mae:0.810471\tValidation-mae:0.912821\n",
      "[440]\tTrain-mae:0.809892\tValidation-mae:0.912491\n",
      "[445]\tTrain-mae:0.80922\tValidation-mae:0.912312\n",
      "[450]\tTrain-mae:0.808501\tValidation-mae:0.911954\n",
      "[455]\tTrain-mae:0.807625\tValidation-mae:0.911584\n",
      "[460]\tTrain-mae:0.806968\tValidation-mae:0.911701\n",
      "[465]\tTrain-mae:0.806252\tValidation-mae:0.911352\n",
      "[470]\tTrain-mae:0.805961\tValidation-mae:0.911233\n",
      "[475]\tTrain-mae:0.805196\tValidation-mae:0.910966\n",
      "[480]\tTrain-mae:0.804498\tValidation-mae:0.910656\n",
      "[485]\tTrain-mae:0.804003\tValidation-mae:0.910606\n",
      "[490]\tTrain-mae:0.803378\tValidation-mae:0.910473\n",
      "[495]\tTrain-mae:0.802778\tValidation-mae:0.910252\n",
      "[500]\tTrain-mae:0.801838\tValidation-mae:0.909731\n",
      "[505]\tTrain-mae:0.801091\tValidation-mae:0.909468\n",
      "[510]\tTrain-mae:0.800453\tValidation-mae:0.909268\n",
      "[515]\tTrain-mae:0.799931\tValidation-mae:0.909032\n",
      "[520]\tTrain-mae:0.799384\tValidation-mae:0.909079\n",
      "[525]\tTrain-mae:0.799064\tValidation-mae:0.909091\n",
      "[530]\tTrain-mae:0.798083\tValidation-mae:0.908317\n",
      "[535]\tTrain-mae:0.797499\tValidation-mae:0.90793\n",
      "[540]\tTrain-mae:0.796108\tValidation-mae:0.90726\n",
      "[545]\tTrain-mae:0.795494\tValidation-mae:0.907139\n",
      "[550]\tTrain-mae:0.794928\tValidation-mae:0.906849\n",
      "[555]\tTrain-mae:0.794023\tValidation-mae:0.90605\n",
      "[560]\tTrain-mae:0.793485\tValidation-mae:0.906066\n",
      "[565]\tTrain-mae:0.793074\tValidation-mae:0.905912\n",
      "[570]\tTrain-mae:0.792405\tValidation-mae:0.905692\n",
      "[575]\tTrain-mae:0.791374\tValidation-mae:0.905043\n",
      "[580]\tTrain-mae:0.790877\tValidation-mae:0.904861\n",
      "[585]\tTrain-mae:0.79027\tValidation-mae:0.904649\n",
      "[590]\tTrain-mae:0.789307\tValidation-mae:0.904118\n",
      "[595]\tTrain-mae:0.788742\tValidation-mae:0.904107\n",
      "[600]\tTrain-mae:0.787547\tValidation-mae:0.903168\n",
      "[605]\tTrain-mae:0.787145\tValidation-mae:0.902954\n",
      "[610]\tTrain-mae:0.785881\tValidation-mae:0.902082\n",
      "[615]\tTrain-mae:0.785434\tValidation-mae:0.901896\n",
      "[620]\tTrain-mae:0.784812\tValidation-mae:0.901547\n",
      "[625]\tTrain-mae:0.784104\tValidation-mae:0.901173\n",
      "[630]\tTrain-mae:0.783459\tValidation-mae:0.900933\n",
      "[635]\tTrain-mae:0.78275\tValidation-mae:0.900535\n",
      "[640]\tTrain-mae:0.782079\tValidation-mae:0.900142\n",
      "[645]\tTrain-mae:0.781596\tValidation-mae:0.900105\n",
      "[650]\tTrain-mae:0.781108\tValidation-mae:0.899753\n",
      "[655]\tTrain-mae:0.780611\tValidation-mae:0.899777\n",
      "[660]\tTrain-mae:0.780393\tValidation-mae:0.899772\n",
      "[665]\tTrain-mae:0.779728\tValidation-mae:0.899363\n",
      "[670]\tTrain-mae:0.778694\tValidation-mae:0.898997\n",
      "[675]\tTrain-mae:0.777985\tValidation-mae:0.898737\n",
      "[680]\tTrain-mae:0.77745\tValidation-mae:0.898603\n",
      "[685]\tTrain-mae:0.777301\tValidation-mae:0.898585\n",
      "[690]\tTrain-mae:0.77691\tValidation-mae:0.89836\n",
      "[695]\tTrain-mae:0.776383\tValidation-mae:0.898165\n",
      "[700]\tTrain-mae:0.775502\tValidation-mae:0.897856\n",
      "[705]\tTrain-mae:0.774654\tValidation-mae:0.897567\n",
      "[710]\tTrain-mae:0.774223\tValidation-mae:0.897448\n",
      "[715]\tTrain-mae:0.773766\tValidation-mae:0.897354\n",
      "[720]\tTrain-mae:0.773223\tValidation-mae:0.896961\n",
      "[725]\tTrain-mae:0.772901\tValidation-mae:0.89696\n",
      "[730]\tTrain-mae:0.772504\tValidation-mae:0.89695\n",
      "[735]\tTrain-mae:0.772052\tValidation-mae:0.896966\n",
      "[740]\tTrain-mae:0.771511\tValidation-mae:0.896895\n",
      "[745]\tTrain-mae:0.770967\tValidation-mae:0.896633\n",
      "[750]\tTrain-mae:0.770298\tValidation-mae:0.896169\n",
      "[755]\tTrain-mae:0.769849\tValidation-mae:0.895886\n",
      "[760]\tTrain-mae:0.769438\tValidation-mae:0.895725\n",
      "[765]\tTrain-mae:0.768884\tValidation-mae:0.895373\n",
      "[770]\tTrain-mae:0.768522\tValidation-mae:0.895189\n",
      "[775]\tTrain-mae:0.768132\tValidation-mae:0.895111\n",
      "[780]\tTrain-mae:0.767324\tValidation-mae:0.894877\n",
      "[785]\tTrain-mae:0.766527\tValidation-mae:0.894404\n",
      "[790]\tTrain-mae:0.766064\tValidation-mae:0.894386\n",
      "[795]\tTrain-mae:0.765707\tValidation-mae:0.894296\n",
      "[800]\tTrain-mae:0.765361\tValidation-mae:0.894296\n",
      "[805]\tTrain-mae:0.76447\tValidation-mae:0.89376\n",
      "[810]\tTrain-mae:0.764205\tValidation-mae:0.893714\n",
      "[815]\tTrain-mae:0.763684\tValidation-mae:0.893748\n",
      "[820]\tTrain-mae:0.763193\tValidation-mae:0.893391\n",
      "[825]\tTrain-mae:0.762891\tValidation-mae:0.893281\n"
     ]
    },
    {
     "name": "stdout",
     "output_type": "stream",
     "text": [
      "[830]\tTrain-mae:0.762693\tValidation-mae:0.893246\n",
      "[835]\tTrain-mae:0.761968\tValidation-mae:0.892845\n",
      "[840]\tTrain-mae:0.761507\tValidation-mae:0.892721\n",
      "[845]\tTrain-mae:0.761283\tValidation-mae:0.892734\n",
      "[850]\tTrain-mae:0.760974\tValidation-mae:0.89278\n",
      "[855]\tTrain-mae:0.760096\tValidation-mae:0.892208\n",
      "[860]\tTrain-mae:0.759547\tValidation-mae:0.892015\n",
      "[865]\tTrain-mae:0.759096\tValidation-mae:0.89199\n",
      "[870]\tTrain-mae:0.758731\tValidation-mae:0.892058\n",
      "[875]\tTrain-mae:0.75843\tValidation-mae:0.891997\n",
      "[880]\tTrain-mae:0.758137\tValidation-mae:0.891904\n",
      "[885]\tTrain-mae:0.757372\tValidation-mae:0.891726\n",
      "[890]\tTrain-mae:0.757139\tValidation-mae:0.891732\n",
      "[895]\tTrain-mae:0.756797\tValidation-mae:0.891554\n",
      "[900]\tTrain-mae:0.756201\tValidation-mae:0.89156\n",
      "[905]\tTrain-mae:0.755924\tValidation-mae:0.891428\n",
      "[910]\tTrain-mae:0.755304\tValidation-mae:0.891222\n",
      "[915]\tTrain-mae:0.754257\tValidation-mae:0.890553\n",
      "[920]\tTrain-mae:0.753211\tValidation-mae:0.889976\n",
      "[925]\tTrain-mae:0.752939\tValidation-mae:0.889905\n",
      "[930]\tTrain-mae:0.752711\tValidation-mae:0.889766\n",
      "[935]\tTrain-mae:0.752225\tValidation-mae:0.88972\n",
      "[940]\tTrain-mae:0.751795\tValidation-mae:0.889622\n",
      "[945]\tTrain-mae:0.751192\tValidation-mae:0.889074\n",
      "[950]\tTrain-mae:0.750857\tValidation-mae:0.888965\n",
      "[955]\tTrain-mae:0.749892\tValidation-mae:0.888555\n",
      "[960]\tTrain-mae:0.749255\tValidation-mae:0.888213\n",
      "[965]\tTrain-mae:0.748802\tValidation-mae:0.888076\n",
      "[970]\tTrain-mae:0.748399\tValidation-mae:0.888053\n",
      "[975]\tTrain-mae:0.748151\tValidation-mae:0.888034\n",
      "[980]\tTrain-mae:0.747789\tValidation-mae:0.88793\n",
      "[985]\tTrain-mae:0.747403\tValidation-mae:0.887908\n",
      "[990]\tTrain-mae:0.746296\tValidation-mae:0.887378\n",
      "[995]\tTrain-mae:0.745963\tValidation-mae:0.887219\n",
      "[1000]\tTrain-mae:0.745498\tValidation-mae:0.887149\n",
      "[1005]\tTrain-mae:0.745262\tValidation-mae:0.887115\n",
      "[1010]\tTrain-mae:0.744966\tValidation-mae:0.887082\n",
      "[1015]\tTrain-mae:0.744107\tValidation-mae:0.886611\n",
      "[1020]\tTrain-mae:0.743835\tValidation-mae:0.886686\n",
      "[1025]\tTrain-mae:0.743423\tValidation-mae:0.886685\n",
      "[1030]\tTrain-mae:0.742961\tValidation-mae:0.886585\n",
      "[1035]\tTrain-mae:0.742602\tValidation-mae:0.886511\n",
      "[1040]\tTrain-mae:0.741929\tValidation-mae:0.886176\n",
      "[1045]\tTrain-mae:0.741342\tValidation-mae:0.886039\n",
      "[1050]\tTrain-mae:0.741083\tValidation-mae:0.885937\n",
      "[1055]\tTrain-mae:0.74071\tValidation-mae:0.885729\n",
      "[1060]\tTrain-mae:0.740243\tValidation-mae:0.885588\n",
      "[1065]\tTrain-mae:0.739722\tValidation-mae:0.885344\n",
      "[1070]\tTrain-mae:0.739238\tValidation-mae:0.885094\n",
      "[1075]\tTrain-mae:0.738854\tValidation-mae:0.885129\n",
      "[1080]\tTrain-mae:0.738289\tValidation-mae:0.884939\n",
      "[1085]\tTrain-mae:0.738113\tValidation-mae:0.884907\n",
      "[1090]\tTrain-mae:0.7377\tValidation-mae:0.884615\n",
      "[1095]\tTrain-mae:0.737201\tValidation-mae:0.884345\n",
      "[1100]\tTrain-mae:0.736948\tValidation-mae:0.884215\n",
      "[1105]\tTrain-mae:0.73627\tValidation-mae:0.88375\n",
      "[1110]\tTrain-mae:0.736044\tValidation-mae:0.88363\n",
      "[1115]\tTrain-mae:0.73536\tValidation-mae:0.883151\n",
      "[1120]\tTrain-mae:0.7351\tValidation-mae:0.883121\n",
      "[1125]\tTrain-mae:0.734321\tValidation-mae:0.882679\n",
      "[1130]\tTrain-mae:0.733737\tValidation-mae:0.882343\n",
      "[1135]\tTrain-mae:0.733253\tValidation-mae:0.882219\n",
      "[1140]\tTrain-mae:0.732881\tValidation-mae:0.882053\n",
      "[1145]\tTrain-mae:0.732513\tValidation-mae:0.881919\n",
      "[1150]\tTrain-mae:0.732241\tValidation-mae:0.881877\n",
      "[1155]\tTrain-mae:0.731701\tValidation-mae:0.881706\n",
      "[1160]\tTrain-mae:0.731191\tValidation-mae:0.881571\n",
      "[1165]\tTrain-mae:0.730712\tValidation-mae:0.881396\n",
      "[1170]\tTrain-mae:0.730369\tValidation-mae:0.881326\n",
      "[1175]\tTrain-mae:0.73015\tValidation-mae:0.881229\n",
      "[1180]\tTrain-mae:0.729675\tValidation-mae:0.880986\n",
      "[1185]\tTrain-mae:0.729012\tValidation-mae:0.880699\n",
      "[1190]\tTrain-mae:0.728704\tValidation-mae:0.880503\n",
      "[1195]\tTrain-mae:0.728467\tValidation-mae:0.880338\n",
      "[1200]\tTrain-mae:0.728128\tValidation-mae:0.88022\n",
      "[1205]\tTrain-mae:0.727903\tValidation-mae:0.880212\n",
      "[1210]\tTrain-mae:0.727694\tValidation-mae:0.880127\n",
      "[1215]\tTrain-mae:0.727343\tValidation-mae:0.879997\n",
      "[1220]\tTrain-mae:0.727076\tValidation-mae:0.880062\n",
      "[1225]\tTrain-mae:0.726793\tValidation-mae:0.879988\n",
      "[1230]\tTrain-mae:0.726571\tValidation-mae:0.879985\n",
      "[1235]\tTrain-mae:0.726128\tValidation-mae:0.879985\n",
      "[1240]\tTrain-mae:0.725833\tValidation-mae:0.879862\n",
      "[1245]\tTrain-mae:0.725441\tValidation-mae:0.879657\n",
      "[1250]\tTrain-mae:0.725095\tValidation-mae:0.879636\n",
      "[1255]\tTrain-mae:0.724636\tValidation-mae:0.879509\n",
      "[1260]\tTrain-mae:0.724192\tValidation-mae:0.879425\n",
      "[1265]\tTrain-mae:0.723933\tValidation-mae:0.879392\n",
      "[1270]\tTrain-mae:0.723358\tValidation-mae:0.87896\n",
      "[1275]\tTrain-mae:0.722976\tValidation-mae:0.879019\n",
      "[1280]\tTrain-mae:0.722675\tValidation-mae:0.879053\n",
      "[1285]\tTrain-mae:0.722336\tValidation-mae:0.878818\n",
      "[1290]\tTrain-mae:0.721738\tValidation-mae:0.878641\n",
      "[1295]\tTrain-mae:0.721163\tValidation-mae:0.878394\n",
      "[1300]\tTrain-mae:0.720824\tValidation-mae:0.878328\n",
      "[1305]\tTrain-mae:0.720568\tValidation-mae:0.878367\n",
      "[1310]\tTrain-mae:0.720101\tValidation-mae:0.878211\n",
      "[1315]\tTrain-mae:0.719844\tValidation-mae:0.878026\n",
      "[1320]\tTrain-mae:0.719103\tValidation-mae:0.877604\n",
      "[1325]\tTrain-mae:0.71869\tValidation-mae:0.877443\n",
      "[1330]\tTrain-mae:0.717968\tValidation-mae:0.876889\n",
      "[1335]\tTrain-mae:0.717708\tValidation-mae:0.876931\n",
      "[1340]\tTrain-mae:0.717374\tValidation-mae:0.876787\n",
      "[1345]\tTrain-mae:0.716778\tValidation-mae:0.876598\n",
      "[1350]\tTrain-mae:0.716316\tValidation-mae:0.876572\n",
      "[1355]\tTrain-mae:0.716014\tValidation-mae:0.876556\n",
      "[1360]\tTrain-mae:0.715737\tValidation-mae:0.876415\n",
      "[1365]\tTrain-mae:0.715454\tValidation-mae:0.876196\n",
      "[1370]\tTrain-mae:0.714974\tValidation-mae:0.876055\n",
      "[1375]\tTrain-mae:0.714728\tValidation-mae:0.875916\n",
      "[1380]\tTrain-mae:0.714601\tValidation-mae:0.875921\n",
      "[1385]\tTrain-mae:0.714404\tValidation-mae:0.875919\n",
      "[1390]\tTrain-mae:0.713933\tValidation-mae:0.875839\n",
      "[1395]\tTrain-mae:0.713615\tValidation-mae:0.875748\n",
      "[1400]\tTrain-mae:0.713405\tValidation-mae:0.875952\n",
      "[1405]\tTrain-mae:0.713164\tValidation-mae:0.875911\n",
      "[1410]\tTrain-mae:0.712954\tValidation-mae:0.875857\n",
      "[1415]\tTrain-mae:0.71246\tValidation-mae:0.87565\n",
      "[1420]\tTrain-mae:0.712064\tValidation-mae:0.87546\n",
      "[1425]\tTrain-mae:0.711668\tValidation-mae:0.875303\n",
      "[1430]\tTrain-mae:0.711313\tValidation-mae:0.875171\n",
      "[1435]\tTrain-mae:0.711015\tValidation-mae:0.875025\n",
      "[1440]\tTrain-mae:0.71064\tValidation-mae:0.874878\n",
      "[1445]\tTrain-mae:0.71043\tValidation-mae:0.874803\n",
      "[1450]\tTrain-mae:0.7101\tValidation-mae:0.874779\n",
      "[1455]\tTrain-mae:0.709885\tValidation-mae:0.874649\n",
      "[1460]\tTrain-mae:0.709545\tValidation-mae:0.874537\n",
      "[1465]\tTrain-mae:0.709241\tValidation-mae:0.874438\n",
      "[1470]\tTrain-mae:0.709044\tValidation-mae:0.874363\n",
      "[1475]\tTrain-mae:0.708743\tValidation-mae:0.874293\n",
      "[1480]\tTrain-mae:0.708587\tValidation-mae:0.87432\n",
      "[1485]\tTrain-mae:0.708345\tValidation-mae:0.874309\n",
      "[1490]\tTrain-mae:0.707973\tValidation-mae:0.874065\n",
      "[1495]\tTrain-mae:0.707655\tValidation-mae:0.873864\n",
      "[1500]\tTrain-mae:0.707454\tValidation-mae:0.873883\n",
      "[1505]\tTrain-mae:0.707288\tValidation-mae:0.873842\n",
      "[1510]\tTrain-mae:0.707043\tValidation-mae:0.873737\n",
      "[1515]\tTrain-mae:0.706542\tValidation-mae:0.873531\n",
      "[1520]\tTrain-mae:0.706281\tValidation-mae:0.873484\n",
      "[1525]\tTrain-mae:0.705906\tValidation-mae:0.873314\n",
      "[1530]\tTrain-mae:0.705597\tValidation-mae:0.873208\n",
      "[1535]\tTrain-mae:0.705096\tValidation-mae:0.87308\n",
      "[1540]\tTrain-mae:0.704873\tValidation-mae:0.873074\n",
      "[1545]\tTrain-mae:0.704658\tValidation-mae:0.872942\n",
      "[1550]\tTrain-mae:0.704462\tValidation-mae:0.873115\n",
      "[1555]\tTrain-mae:0.704125\tValidation-mae:0.872992\n",
      "[1560]\tTrain-mae:0.703448\tValidation-mae:0.872611\n",
      "[1565]\tTrain-mae:0.703164\tValidation-mae:0.872626\n",
      "[1570]\tTrain-mae:0.702979\tValidation-mae:0.872579\n",
      "[1575]\tTrain-mae:0.702741\tValidation-mae:0.872656\n",
      "[1580]\tTrain-mae:0.702486\tValidation-mae:0.872616\n",
      "[1585]\tTrain-mae:0.702307\tValidation-mae:0.872581\n",
      "[1590]\tTrain-mae:0.702036\tValidation-mae:0.872533\n",
      "[1595]\tTrain-mae:0.701878\tValidation-mae:0.872501\n",
      "[1600]\tTrain-mae:0.701474\tValidation-mae:0.872348\n",
      "[1605]\tTrain-mae:0.701272\tValidation-mae:0.872361\n",
      "[1610]\tTrain-mae:0.701047\tValidation-mae:0.872239\n",
      "[1615]\tTrain-mae:0.700865\tValidation-mae:0.872177\n",
      "[1620]\tTrain-mae:0.700535\tValidation-mae:0.87203\n",
      "[1625]\tTrain-mae:0.700278\tValidation-mae:0.871937\n",
      "[1630]\tTrain-mae:0.700151\tValidation-mae:0.871943\n",
      "[1635]\tTrain-mae:0.699982\tValidation-mae:0.87211\n",
      "[1640]\tTrain-mae:0.699717\tValidation-mae:0.872086\n",
      "[1645]\tTrain-mae:0.699534\tValidation-mae:0.872098\n",
      "[1650]\tTrain-mae:0.699285\tValidation-mae:0.872024\n",
      "[1655]\tTrain-mae:0.698792\tValidation-mae:0.871894\n"
     ]
    },
    {
     "name": "stdout",
     "output_type": "stream",
     "text": [
      "[1660]\tTrain-mae:0.69834\tValidation-mae:0.871773\n",
      "[1665]\tTrain-mae:0.698205\tValidation-mae:0.871749\n",
      "[1670]\tTrain-mae:0.69771\tValidation-mae:0.871589\n",
      "[1675]\tTrain-mae:0.697515\tValidation-mae:0.87158\n",
      "[1680]\tTrain-mae:0.697287\tValidation-mae:0.871426\n",
      "[1685]\tTrain-mae:0.696986\tValidation-mae:0.871523\n",
      "[1690]\tTrain-mae:0.696846\tValidation-mae:0.871534\n",
      "[1695]\tTrain-mae:0.696584\tValidation-mae:0.871418\n",
      "[1700]\tTrain-mae:0.696368\tValidation-mae:0.871396\n",
      "[1705]\tTrain-mae:0.696104\tValidation-mae:0.871446\n",
      "[1710]\tTrain-mae:0.695855\tValidation-mae:0.871377\n",
      "[1715]\tTrain-mae:0.695607\tValidation-mae:0.871391\n",
      "[1720]\tTrain-mae:0.695446\tValidation-mae:0.871334\n",
      "[1725]\tTrain-mae:0.695148\tValidation-mae:0.871321\n",
      "[1730]\tTrain-mae:0.69474\tValidation-mae:0.871314\n",
      "[1735]\tTrain-mae:0.694276\tValidation-mae:0.87108\n",
      "[1740]\tTrain-mae:0.693921\tValidation-mae:0.870922\n",
      "[1745]\tTrain-mae:0.693648\tValidation-mae:0.870927\n",
      "[1750]\tTrain-mae:0.69335\tValidation-mae:0.87082\n",
      "[1755]\tTrain-mae:0.693186\tValidation-mae:0.87078\n",
      "[1760]\tTrain-mae:0.692808\tValidation-mae:0.8707\n",
      "[1765]\tTrain-mae:0.692562\tValidation-mae:0.870789\n",
      "[1770]\tTrain-mae:0.692272\tValidation-mae:0.870698\n",
      "[1775]\tTrain-mae:0.692028\tValidation-mae:0.870613\n",
      "[1780]\tTrain-mae:0.69177\tValidation-mae:0.870556\n",
      "[1785]\tTrain-mae:0.691628\tValidation-mae:0.870543\n",
      "[1790]\tTrain-mae:0.691445\tValidation-mae:0.870444\n",
      "[1795]\tTrain-mae:0.691194\tValidation-mae:0.870438\n",
      "[1800]\tTrain-mae:0.691009\tValidation-mae:0.870365\n",
      "[1805]\tTrain-mae:0.690727\tValidation-mae:0.87031\n",
      "[1810]\tTrain-mae:0.690341\tValidation-mae:0.870285\n",
      "[1815]\tTrain-mae:0.690127\tValidation-mae:0.870387\n",
      "[1820]\tTrain-mae:0.689851\tValidation-mae:0.870218\n",
      "[1825]\tTrain-mae:0.689498\tValidation-mae:0.870027\n",
      "[1830]\tTrain-mae:0.689305\tValidation-mae:0.869976\n",
      "[1835]\tTrain-mae:0.689025\tValidation-mae:0.869871\n"
     ]
    }
   ],
   "source": [
    "rounds = 2000\n",
    "watchlist = [(DM_training,'Train'), (DM_validation, 'Validation')]\n",
    "model = xgb.train(xgb_params, DM_training, rounds, watchlist, early_stopping_rounds=50, verbose_eval=5)\n"
   ]
  },
  {
   "cell_type": "code",
   "execution_count": null,
   "metadata": {
    "collapsed": true
   },
   "outputs": [],
   "source": [
    "model = xgb.train(dict(xgb_params, silent=1), DM_training, num_boost_round=1194)"
   ]
  },
  {
   "cell_type": "code",
   "execution_count": null,
   "metadata": {
    "collapsed": true
   },
   "outputs": [],
   "source": [
    "prediction = model.predict(DM_test)\n"
   ]
  },
  {
   "cell_type": "code",
   "execution_count": 1,
   "metadata": {
    "collapsed": true
   },
   "outputs": [],
   "source": [
    "from sklearn.linear_model import Ridge\n",
    "from sklearn.model_selection import KFold\n",
    "from sklearn.model_selection import cross_val_score\n",
    "from sklearn.tree import DecisionTreeRegressor\n",
    "from sklearn.ensemble import RandomForestRegressor"
   ]
  },
  {
   "cell_type": "code",
   "execution_count": 19,
   "metadata": {
    "collapsed": true,
    "scrolled": true
   },
   "outputs": [],
   "source": [
    "# model = DecisionTreeRegressor()\n",
    "# kfold = KFold(n_splits=5, random_state=7)\n",
    "# scoring = 'mean_absolute_error'\n",
    "# results = cross_val_score(model, train, train_label, cv=kfold, scoring=scoring)\n",
    "# results"
   ]
  },
  {
   "cell_type": "code",
   "execution_count": 29,
   "metadata": {
    "collapsed": true
   },
   "outputs": [],
   "source": [
    "model = RandomForestRegressor(n_estimators=40)\n",
    "kfold = KFold(n_splits=5, random_state=7)\n",
    "scoring = 'neg_mean_absolute_error'\n",
    "results = cross_val_score(model, train, train_label, cv=kfold, scoring=scoring)\n",
    "results"
   ]
  },
  {
   "cell_type": "code",
   "execution_count": 20,
   "metadata": {},
   "outputs": [
    {
     "data": {
      "text/plain": [
       "RandomForestRegressor(bootstrap=True, criterion='mse', max_depth=None,\n",
       "           max_features='auto', max_leaf_nodes=None,\n",
       "           min_impurity_split=1e-07, min_samples_leaf=1,\n",
       "           min_samples_split=2, min_weight_fraction_leaf=0.0,\n",
       "           n_estimators=50, n_jobs=1, oob_score=False, random_state=None,\n",
       "           verbose=0, warm_start=False)"
      ]
     },
     "execution_count": 20,
     "metadata": {},
     "output_type": "execute_result"
    }
   ],
   "source": [
    "model = RandomForestRegressor(n_estimators=50)\n",
    "model.fit(train, train_label)\n"
   ]
  },
  {
   "cell_type": "code",
   "execution_count": 21,
   "metadata": {
    "collapsed": true
   },
   "outputs": [],
   "source": [
    "prediction = model.predict(test)"
   ]
  },
  {
   "cell_type": "code",
   "execution_count": 22,
   "metadata": {
    "collapsed": true
   },
   "outputs": [],
   "source": [
    "subm_file = pd.read_csv('sample_submission.csv')"
   ]
  },
  {
   "cell_type": "code",
   "execution_count": 23,
   "metadata": {
    "collapsed": true
   },
   "outputs": [],
   "source": [
    "temp = pd.read_csv('test.csv')"
   ]
  },
  {
   "cell_type": "code",
   "execution_count": 24,
   "metadata": {
    "collapsed": true
   },
   "outputs": [],
   "source": [
    "subm_file['TID'] = temp['TID']\n",
    "subm_file['fare_amount'] = prediction"
   ]
  },
  {
   "cell_type": "code",
   "execution_count": 25,
   "metadata": {
    "collapsed": true
   },
   "outputs": [],
   "source": [
    "subm_file.to_csv('subm_file6.csv', index=False)"
   ]
  },
  {
   "cell_type": "code",
   "execution_count": null,
   "metadata": {
    "collapsed": true
   },
   "outputs": [],
   "source": []
  }
 ],
 "metadata": {
  "kernelspec": {
   "display_name": "Python 2",
   "language": "python",
   "name": "python2"
  },
  "language_info": {
   "codemirror_mode": {
    "name": "ipython",
    "version": 2
   },
   "file_extension": ".py",
   "mimetype": "text/x-python",
   "name": "python",
   "nbconvert_exporter": "python",
   "pygments_lexer": "ipython2",
   "version": "2.7.12"
  }
 },
 "nbformat": 4,
 "nbformat_minor": 2
}
