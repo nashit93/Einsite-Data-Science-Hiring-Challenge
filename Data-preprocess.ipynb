{
 "cells": [
  {
   "cell_type": "code",
   "execution_count": 1,
   "metadata": {
    "collapsed": true
   },
   "outputs": [],
   "source": [
    "import pandas as pd\n",
    "import numpy as np\n",
    "import seaborn as sns\n",
    "%matplotlib inline"
   ]
  },
  {
   "cell_type": "code",
   "execution_count": 2,
   "metadata": {
    "collapsed": true
   },
   "outputs": [],
   "source": [
    "train = pd.read_csv('train.csv')\n",
    "test = pd.read_csv('test.csv') "
   ]
  },
  {
   "cell_type": "code",
   "execution_count": 3,
   "metadata": {
    "collapsed": true
   },
   "outputs": [],
   "source": [
    "num_cols = train._get_numeric_data().columns "
   ]
  },
  {
   "cell_type": "code",
   "execution_count": 4,
   "metadata": {},
   "outputs": [
    {
     "data": {
      "text/plain": [
       "11"
      ]
     },
     "execution_count": 4,
     "metadata": {},
     "output_type": "execute_result"
    }
   ],
   "source": [
    "len(num_cols)"
   ]
  },
  {
   "cell_type": "code",
   "execution_count": 5,
   "metadata": {},
   "outputs": [
    {
     "data": {
      "text/html": [
       "<div>\n",
       "<table border=\"1\" class=\"dataframe\">\n",
       "  <thead>\n",
       "    <tr style=\"text-align: right;\">\n",
       "      <th></th>\n",
       "      <th>TID</th>\n",
       "      <th>vendor_id</th>\n",
       "      <th>new_user</th>\n",
       "      <th>tolls_amount</th>\n",
       "      <th>tip_amount</th>\n",
       "      <th>mta_tax</th>\n",
       "      <th>pickup_datetime</th>\n",
       "      <th>dropoff_datetime</th>\n",
       "      <th>passenger_count</th>\n",
       "      <th>pickup_longitude</th>\n",
       "      <th>pickup_latitude</th>\n",
       "      <th>rate_code</th>\n",
       "      <th>store_and_fwd_flag</th>\n",
       "      <th>dropoff_longitude</th>\n",
       "      <th>dropoff_latitude</th>\n",
       "      <th>payment_type</th>\n",
       "      <th>surcharge</th>\n",
       "      <th>fare_amount</th>\n",
       "    </tr>\n",
       "  </thead>\n",
       "  <tbody>\n",
       "    <tr>\n",
       "      <th>0</th>\n",
       "      <td>AIX000345001</td>\n",
       "      <td>DST000401</td>\n",
       "      <td>NO</td>\n",
       "      <td>0.0</td>\n",
       "      <td>1.4</td>\n",
       "      <td>0.5</td>\n",
       "      <td>2015-04-20 04:18:25</td>\n",
       "      <td>2015-04-20 04:24:20</td>\n",
       "      <td>1</td>\n",
       "      <td>-74.003939</td>\n",
       "      <td>40.742894</td>\n",
       "      <td>1</td>\n",
       "      <td>N</td>\n",
       "      <td>-73.993369</td>\n",
       "      <td>40.734247</td>\n",
       "      <td>CRD</td>\n",
       "      <td>0.5</td>\n",
       "      <td>8.4</td>\n",
       "    </tr>\n",
       "    <tr>\n",
       "      <th>1</th>\n",
       "      <td>AIX000345002</td>\n",
       "      <td>DST000401</td>\n",
       "      <td>NO</td>\n",
       "      <td>0.0</td>\n",
       "      <td>1.0</td>\n",
       "      <td>0.5</td>\n",
       "      <td>2015-04-19 18:16:07</td>\n",
       "      <td>2015-04-19 18:22:06</td>\n",
       "      <td>3</td>\n",
       "      <td>-73.973864</td>\n",
       "      <td>40.752194</td>\n",
       "      <td>1</td>\n",
       "      <td>N</td>\n",
       "      <td>-73.958701</td>\n",
       "      <td>40.772533</td>\n",
       "      <td>CRD</td>\n",
       "      <td>0.0</td>\n",
       "      <td>8.5</td>\n",
       "    </tr>\n",
       "    <tr>\n",
       "      <th>2</th>\n",
       "      <td>AIX000345003</td>\n",
       "      <td>DST000401</td>\n",
       "      <td>NO</td>\n",
       "      <td>0.0</td>\n",
       "      <td>0.0</td>\n",
       "      <td>0.5</td>\n",
       "      <td>2015-04-06 08:04:32</td>\n",
       "      <td>2015-04-06 08:10:05</td>\n",
       "      <td>2</td>\n",
       "      <td>-73.954406</td>\n",
       "      <td>40.764420</td>\n",
       "      <td>1</td>\n",
       "      <td>N</td>\n",
       "      <td>-73.970780</td>\n",
       "      <td>40.758350</td>\n",
       "      <td>CSH</td>\n",
       "      <td>0.0</td>\n",
       "      <td>7.0</td>\n",
       "    </tr>\n",
       "    <tr>\n",
       "      <th>3</th>\n",
       "      <td>AIX000345004</td>\n",
       "      <td>DST000532</td>\n",
       "      <td>NO</td>\n",
       "      <td>0.0</td>\n",
       "      <td>1.8</td>\n",
       "      <td>0.5</td>\n",
       "      <td>2015-04-10 09:48:00</td>\n",
       "      <td>2015-04-10 10:00:00</td>\n",
       "      <td>2</td>\n",
       "      <td>-73.962345</td>\n",
       "      <td>40.767215</td>\n",
       "      <td>1</td>\n",
       "      <td>NaN</td>\n",
       "      <td>-73.975512</td>\n",
       "      <td>40.756867</td>\n",
       "      <td>CRD</td>\n",
       "      <td>0.0</td>\n",
       "      <td>11.3</td>\n",
       "    </tr>\n",
       "    <tr>\n",
       "      <th>4</th>\n",
       "      <td>AIX000345005</td>\n",
       "      <td>DST000401</td>\n",
       "      <td>NO</td>\n",
       "      <td>0.0</td>\n",
       "      <td>0.0</td>\n",
       "      <td>0.5</td>\n",
       "      <td>2015-04-15 13:12:48</td>\n",
       "      <td>2015-04-15 13:26:30</td>\n",
       "      <td>1</td>\n",
       "      <td>-74.004657</td>\n",
       "      <td>40.707434</td>\n",
       "      <td>1</td>\n",
       "      <td>N</td>\n",
       "      <td>-73.999369</td>\n",
       "      <td>40.721517</td>\n",
       "      <td>CSH</td>\n",
       "      <td>0.0</td>\n",
       "      <td>10.0</td>\n",
       "    </tr>\n",
       "  </tbody>\n",
       "</table>\n",
       "</div>"
      ],
      "text/plain": [
       "            TID  vendor_id new_user  tolls_amount  tip_amount  mta_tax  \\\n",
       "0  AIX000345001  DST000401       NO           0.0         1.4      0.5   \n",
       "1  AIX000345002  DST000401       NO           0.0         1.0      0.5   \n",
       "2  AIX000345003  DST000401       NO           0.0         0.0      0.5   \n",
       "3  AIX000345004  DST000532       NO           0.0         1.8      0.5   \n",
       "4  AIX000345005  DST000401       NO           0.0         0.0      0.5   \n",
       "\n",
       "       pickup_datetime     dropoff_datetime  passenger_count  \\\n",
       "0  2015-04-20 04:18:25  2015-04-20 04:24:20                1   \n",
       "1  2015-04-19 18:16:07  2015-04-19 18:22:06                3   \n",
       "2  2015-04-06 08:04:32  2015-04-06 08:10:05                2   \n",
       "3  2015-04-10 09:48:00  2015-04-10 10:00:00                2   \n",
       "4  2015-04-15 13:12:48  2015-04-15 13:26:30                1   \n",
       "\n",
       "   pickup_longitude  pickup_latitude  rate_code store_and_fwd_flag  \\\n",
       "0        -74.003939        40.742894          1                  N   \n",
       "1        -73.973864        40.752194          1                  N   \n",
       "2        -73.954406        40.764420          1                  N   \n",
       "3        -73.962345        40.767215          1                NaN   \n",
       "4        -74.004657        40.707434          1                  N   \n",
       "\n",
       "   dropoff_longitude  dropoff_latitude payment_type  surcharge  fare_amount  \n",
       "0         -73.993369         40.734247          CRD        0.5          8.4  \n",
       "1         -73.958701         40.772533          CRD        0.0          8.5  \n",
       "2         -73.970780         40.758350          CSH        0.0          7.0  \n",
       "3         -73.975512         40.756867          CRD        0.0         11.3  \n",
       "4         -73.999369         40.721517          CSH        0.0         10.0  "
      ]
     },
     "execution_count": 5,
     "metadata": {},
     "output_type": "execute_result"
    }
   ],
   "source": [
    "train.head()"
   ]
  },
  {
   "cell_type": "code",
   "execution_count": 6,
   "metadata": {
    "collapsed": true
   },
   "outputs": [],
   "source": [
    "list1 = ['TID','vendor_id' , 'fare_amount']\n",
    "num_cols = list(set(num_cols) - set(list1))"
   ]
  },
  {
   "cell_type": "code",
   "execution_count": 7,
   "metadata": {},
   "outputs": [
    {
     "data": {
      "text/plain": [
       "10"
      ]
     },
     "execution_count": 7,
     "metadata": {},
     "output_type": "execute_result"
    }
   ],
   "source": [
    "len(num_cols)"
   ]
  },
  {
   "cell_type": "code",
   "execution_count": 8,
   "metadata": {
    "collapsed": true
   },
   "outputs": [],
   "source": [
    "df = train[num_cols] "
   ]
  },
  {
   "cell_type": "code",
   "execution_count": 9,
   "metadata": {
    "collapsed": true
   },
   "outputs": [],
   "source": [
    "corr = df.corr()"
   ]
  },
  {
   "cell_type": "code",
   "execution_count": 10,
   "metadata": {},
   "outputs": [
    {
     "data": {
      "text/plain": [
       "<matplotlib.axes._subplots.AxesSubplot at 0x7eff7ca91410>"
      ]
     },
     "execution_count": 10,
     "metadata": {},
     "output_type": "execute_result"
    },
    {
     "data": {
      "image/png": "[encoded data removed]",
      "text/plain": [
       "<matplotlib.figure.Figure at 0x7eff67a17090>"
      ]
     },
     "metadata": {},
     "output_type": "display_data"
    }
   ],
   "source": [
    "import matplotlib.pyplot as plt\n",
    "f, ax = plt.subplots(figsize=(11, 9))\n",
    "sns.heatmap(corr,xticklabels=num_cols, yticklabels=num_cols , ax=ax)"
   ]
  },
  {
   "cell_type": "code",
   "execution_count": 11,
   "metadata": {
    "collapsed": true
   },
   "outputs": [],
   "source": [
    "tid = test['TID']"
   ]
  },
  {
   "cell_type": "code",
   "execution_count": 12,
   "metadata": {
    "collapsed": true
   },
   "outputs": [],
   "source": [
    "train = train.drop(['TID'],axis = 1)"
   ]
  },
  {
   "cell_type": "code",
   "execution_count": 13,
   "metadata": {
    "collapsed": true
   },
   "outputs": [],
   "source": [
    "test = test.drop(['TID'],1)"
   ]
  },
  {
   "cell_type": "code",
   "execution_count": 14,
   "metadata": {},
   "outputs": [
    {
     "data": {
      "text/plain": [
       "vendor_id                  0\n",
       "new_user                  19\n",
       "tolls_amount               0\n",
       "tip_amount            165196\n",
       "mta_tax                    0\n",
       "pickup_datetime            0\n",
       "dropoff_datetime           0\n",
       "passenger_count            0\n",
       "pickup_longitude       49809\n",
       "pickup_latitude        33101\n",
       "rate_code                  0\n",
       "store_and_fwd_flag    648122\n",
       "dropoff_longitude       4987\n",
       "dropoff_latitude        8162\n",
       "payment_type               0\n",
       "surcharge              99173\n",
       "fare_amount                0\n",
       "dtype: int64"
      ]
     },
     "execution_count": 14,
     "metadata": {},
     "output_type": "execute_result"
    }
   ],
   "source": [
    "train.isnull().sum()"
   ]
  },
  {
   "cell_type": "code",
   "execution_count": 15,
   "metadata": {},
   "outputs": [
    {
     "data": {
      "text/plain": [
       "['tolls_amount',\n",
       " 'tip_amount',\n",
       " 'mta_tax',\n",
       " 'pickup_longitude',\n",
       " 'dropoff_longitude',\n",
       " 'passenger_count',\n",
       " 'rate_code',\n",
       " 'pickup_latitude',\n",
       " 'dropoff_latitude',\n",
       " 'surcharge']"
      ]
     },
     "execution_count": 15,
     "metadata": {},
     "output_type": "execute_result"
    }
   ],
   "source": [
    "num_cols"
   ]
  },
  {
   "cell_type": "code",
   "execution_count": 16,
   "metadata": {
    "collapsed": true
   },
   "outputs": [],
   "source": [
    "train['pickup_latitude'].fillna(0.0,inplace=True)\n",
    "train['pickup_longitude'].fillna(0.0,inplace=True)\n",
    "train['dropoff_latitude'].fillna(0.0,inplace=True)\n",
    "train['dropoff_longitude'].fillna(0.0,inplace=True)\n",
    "\n",
    "test['pickup_latitude'].fillna(0.0,inplace=True)\n",
    "test['pickup_longitude'].fillna(0.0,inplace=True)\n",
    "test['dropoff_latitude'].fillna(0.0,inplace=True)\n",
    "test['dropoff_longitude'].fillna(0.0,inplace=True)"
   ]
  },
  {
   "cell_type": "code",
   "execution_count": 17,
   "metadata": {
    "collapsed": true
   },
   "outputs": [],
   "source": [
    "for i in num_cols:\n",
    "    train[i].fillna(train[i].median(),inplace=True)\n",
    "    test[i].fillna(test[i].median(),inplace=True)"
   ]
  },
  {
   "cell_type": "code",
   "execution_count": 18,
   "metadata": {},
   "outputs": [
    {
     "data": {
      "text/plain": [
       "vendor_id                  0\n",
       "new_user                  19\n",
       "tolls_amount               0\n",
       "tip_amount                 0\n",
       "mta_tax                    0\n",
       "pickup_datetime            0\n",
       "dropoff_datetime           0\n",
       "passenger_count            0\n",
       "pickup_longitude           0\n",
       "pickup_latitude            0\n",
       "rate_code                  0\n",
       "store_and_fwd_flag    648122\n",
       "dropoff_longitude          0\n",
       "dropoff_latitude           0\n",
       "payment_type               0\n",
       "surcharge                  0\n",
       "fare_amount                0\n",
       "dtype: int64"
      ]
     },
     "execution_count": 18,
     "metadata": {},
     "output_type": "execute_result"
    }
   ],
   "source": [
    "train.isnull().sum()"
   ]
  },
  {
   "cell_type": "code",
   "execution_count": 19,
   "metadata": {},
   "outputs": [
    {
     "data": {
      "text/plain": [
       "NO     0.999890\n",
       "YES    0.000098\n",
       "Name: new_user, dtype: float64"
      ]
     },
     "execution_count": 19,
     "metadata": {},
     "output_type": "execute_result"
    }
   ],
   "source": [
    "train['new_user'].value_counts()/train.shape[0]"
   ]
  },
  {
   "cell_type": "code",
   "execution_count": 20,
   "metadata": {},
   "outputs": [
    {
     "data": {
      "text/plain": [
       "N    0.599437\n",
       "Y    0.009680\n",
       "Name: store_and_fwd_flag, dtype: float64"
      ]
     },
     "execution_count": 20,
     "metadata": {},
     "output_type": "execute_result"
    }
   ],
   "source": [
    "train['store_and_fwd_flag'].value_counts()/train.shape[0]"
   ]
  },
  {
   "cell_type": "code",
   "execution_count": 21,
   "metadata": {},
   "outputs": [
    {
     "name": "stdout",
     "output_type": "stream",
     "text": [
      "(1658099, 17)\n",
      "(509808, 16)\n"
     ]
    }
   ],
   "source": [
    "print train.shape\n",
    "\n",
    "print test.shape"
   ]
  },
  {
   "cell_type": "code",
   "execution_count": 22,
   "metadata": {},
   "outputs": [
    {
     "data": {
      "text/html": [
       "<div>\n",
       "<table border=\"1\" class=\"dataframe\">\n",
       "  <thead>\n",
       "    <tr style=\"text-align: right;\">\n",
       "      <th></th>\n",
       "      <th>vendor_id</th>\n",
       "      <th>new_user</th>\n",
       "      <th>tolls_amount</th>\n",
       "      <th>tip_amount</th>\n",
       "      <th>mta_tax</th>\n",
       "      <th>pickup_datetime</th>\n",
       "      <th>dropoff_datetime</th>\n",
       "      <th>passenger_count</th>\n",
       "      <th>pickup_longitude</th>\n",
       "      <th>pickup_latitude</th>\n",
       "      <th>rate_code</th>\n",
       "      <th>store_and_fwd_flag</th>\n",
       "      <th>dropoff_longitude</th>\n",
       "      <th>dropoff_latitude</th>\n",
       "      <th>payment_type</th>\n",
       "      <th>surcharge</th>\n",
       "      <th>fare_amount</th>\n",
       "    </tr>\n",
       "  </thead>\n",
       "  <tbody>\n",
       "    <tr>\n",
       "      <th>0</th>\n",
       "      <td>DST000401</td>\n",
       "      <td>NO</td>\n",
       "      <td>0.0</td>\n",
       "      <td>1.4</td>\n",
       "      <td>0.5</td>\n",
       "      <td>2015-04-20 04:18:25</td>\n",
       "      <td>2015-04-20 04:24:20</td>\n",
       "      <td>1</td>\n",
       "      <td>-74.003939</td>\n",
       "      <td>40.742894</td>\n",
       "      <td>1</td>\n",
       "      <td>N</td>\n",
       "      <td>-73.993369</td>\n",
       "      <td>40.734247</td>\n",
       "      <td>CRD</td>\n",
       "      <td>0.5</td>\n",
       "      <td>8.4</td>\n",
       "    </tr>\n",
       "    <tr>\n",
       "      <th>1</th>\n",
       "      <td>DST000401</td>\n",
       "      <td>NO</td>\n",
       "      <td>0.0</td>\n",
       "      <td>1.0</td>\n",
       "      <td>0.5</td>\n",
       "      <td>2015-04-19 18:16:07</td>\n",
       "      <td>2015-04-19 18:22:06</td>\n",
       "      <td>3</td>\n",
       "      <td>-73.973864</td>\n",
       "      <td>40.752194</td>\n",
       "      <td>1</td>\n",
       "      <td>N</td>\n",
       "      <td>-73.958701</td>\n",
       "      <td>40.772533</td>\n",
       "      <td>CRD</td>\n",
       "      <td>0.0</td>\n",
       "      <td>8.5</td>\n",
       "    </tr>\n",
       "    <tr>\n",
       "      <th>2</th>\n",
       "      <td>DST000401</td>\n",
       "      <td>NO</td>\n",
       "      <td>0.0</td>\n",
       "      <td>0.0</td>\n",
       "      <td>0.5</td>\n",
       "      <td>2015-04-06 08:04:32</td>\n",
       "      <td>2015-04-06 08:10:05</td>\n",
       "      <td>2</td>\n",
       "      <td>-73.954406</td>\n",
       "      <td>40.764420</td>\n",
       "      <td>1</td>\n",
       "      <td>N</td>\n",
       "      <td>-73.970780</td>\n",
       "      <td>40.758350</td>\n",
       "      <td>CSH</td>\n",
       "      <td>0.0</td>\n",
       "      <td>7.0</td>\n",
       "    </tr>\n",
       "    <tr>\n",
       "      <th>3</th>\n",
       "      <td>DST000532</td>\n",
       "      <td>NO</td>\n",
       "      <td>0.0</td>\n",
       "      <td>1.8</td>\n",
       "      <td>0.5</td>\n",
       "      <td>2015-04-10 09:48:00</td>\n",
       "      <td>2015-04-10 10:00:00</td>\n",
       "      <td>2</td>\n",
       "      <td>-73.962345</td>\n",
       "      <td>40.767215</td>\n",
       "      <td>1</td>\n",
       "      <td>NaN</td>\n",
       "      <td>-73.975512</td>\n",
       "      <td>40.756867</td>\n",
       "      <td>CRD</td>\n",
       "      <td>0.0</td>\n",
       "      <td>11.3</td>\n",
       "    </tr>\n",
       "    <tr>\n",
       "      <th>4</th>\n",
       "      <td>DST000401</td>\n",
       "      <td>NO</td>\n",
       "      <td>0.0</td>\n",
       "      <td>0.0</td>\n",
       "      <td>0.5</td>\n",
       "      <td>2015-04-15 13:12:48</td>\n",
       "      <td>2015-04-15 13:26:30</td>\n",
       "      <td>1</td>\n",
       "      <td>-74.004657</td>\n",
       "      <td>40.707434</td>\n",
       "      <td>1</td>\n",
       "      <td>N</td>\n",
       "      <td>-73.999369</td>\n",
       "      <td>40.721517</td>\n",
       "      <td>CSH</td>\n",
       "      <td>0.0</td>\n",
       "      <td>10.0</td>\n",
       "    </tr>\n",
       "  </tbody>\n",
       "</table>\n",
       "</div>"
      ],
      "text/plain": [
       "   vendor_id new_user  tolls_amount  tip_amount  mta_tax      pickup_datetime  \\\n",
       "0  DST000401       NO           0.0         1.4      0.5  2015-04-20 04:18:25   \n",
       "1  DST000401       NO           0.0         1.0      0.5  2015-04-19 18:16:07   \n",
       "2  DST000401       NO           0.0         0.0      0.5  2015-04-06 08:04:32   \n",
       "3  DST000532       NO           0.0         1.8      0.5  2015-04-10 09:48:00   \n",
       "4  DST000401       NO           0.0         0.0      0.5  2015-04-15 13:12:48   \n",
       "\n",
       "      dropoff_datetime  passenger_count  pickup_longitude  pickup_latitude  \\\n",
       "0  2015-04-20 04:24:20                1        -74.003939        40.742894   \n",
       "1  2015-04-19 18:22:06                3        -73.973864        40.752194   \n",
       "2  2015-04-06 08:10:05                2        -73.954406        40.764420   \n",
       "3  2015-04-10 10:00:00                2        -73.962345        40.767215   \n",
       "4  2015-04-15 13:26:30                1        -74.004657        40.707434   \n",
       "\n",
       "   rate_code store_and_fwd_flag  dropoff_longitude  dropoff_latitude  \\\n",
       "0          1                  N         -73.993369         40.734247   \n",
       "1          1                  N         -73.958701         40.772533   \n",
       "2          1                  N         -73.970780         40.758350   \n",
       "3          1                NaN         -73.975512         40.756867   \n",
       "4          1                  N         -73.999369         40.721517   \n",
       "\n",
       "  payment_type  surcharge  fare_amount  \n",
       "0          CRD        0.5          8.4  \n",
       "1          CRD        0.0          8.5  \n",
       "2          CSH        0.0          7.0  \n",
       "3          CRD        0.0         11.3  \n",
       "4          CSH        0.0         10.0  "
      ]
     },
     "execution_count": 22,
     "metadata": {},
     "output_type": "execute_result"
    }
   ],
   "source": [
    "train.head()"
   ]
  },
  {
   "cell_type": "code",
   "execution_count": 23,
   "metadata": {
    "collapsed": true
   },
   "outputs": [],
   "source": [
    "train['pickup_datetime']=pd.to_datetime(train['pickup_datetime'])\n",
    "test['pickup_datetime']=pd.to_datetime(test['pickup_datetime'])"
   ]
  },
  {
   "cell_type": "code",
   "execution_count": 24,
   "metadata": {
    "collapsed": true
   },
   "outputs": [],
   "source": [
    "train['day']= train['pickup_datetime'].dt.day\n",
    "\n",
    "train['month'] = train['pickup_datetime'].dt.month\n",
    "\n",
    "train['year'] = train['pickup_datetime'].dt.year\n",
    "\n",
    "train['weekday'] = train['pickup_datetime'].dt.dayofweek   \n",
    "\n",
    "train['hour'] = train['pickup_datetime'].dt.hour\n",
    "\n"
   ]
  },
  {
   "cell_type": "code",
   "execution_count": 25,
   "metadata": {
    "collapsed": true
   },
   "outputs": [],
   "source": [
    "test['day']= test['pickup_datetime'].dt.day\n",
    "\n",
    "test['month'] = test['pickup_datetime'].dt.month\n",
    "\n",
    "test['year'] = test['pickup_datetime'].dt.year\n",
    "\n",
    "test['weekday'] = test['pickup_datetime'].dt.dayofweek\n",
    "\n",
    "test['hour'] = test['pickup_datetime'].dt.hour"
   ]
  },
  {
   "cell_type": "code",
   "execution_count": 26,
   "metadata": {
    "collapsed": true
   },
   "outputs": [],
   "source": [
    "train['dropoff_datetime']=pd.to_datetime(train['dropoff_datetime'])\n",
    "test['dropoff_datetime']=pd.to_datetime(test['dropoff_datetime'])"
   ]
  },
  {
   "cell_type": "code",
   "execution_count": 27,
   "metadata": {
    "collapsed": true
   },
   "outputs": [],
   "source": [
    "import numpy as np\n",
    "\n",
    "def haversine_np(lon1, lat1, lon2, lat2):\n",
    "    \"\"\"\n",
    "    Calculate the great circle distance between two points\n",
    "    on the earth (specified in decimal degrees)\n",
    "\n",
    "    All args must be of equal length.    \n",
    "\n",
    "    \"\"\"\n",
    "    lon1, lat1, lon2, lat2 = map(np.radians, [lon1, lat1, lon2, lat2])\n",
    "\n",
    "    dlon = lon2 - lon1\n",
    "    dlat = lat2 - lat1\n",
    "\n",
    "    a = np.sin(dlat/2.0)**2 + np.cos(lat1) * np.cos(lat2) * np.sin(dlon/2.0)**2\n",
    "\n",
    "    c = 2 * np.arcsin(np.sqrt(a))\n",
    "    km = 6367 * c\n",
    "    return km"
   ]
  },
  {
   "cell_type": "code",
   "execution_count": 28,
   "metadata": {
    "collapsed": true
   },
   "outputs": [],
   "source": [
    "km1 = haversine_np(train['pickup_longitude'],train['pickup_latitude'],train['dropoff_longitude'],train['dropoff_latitude'])\n",
    "km = haversine_np(test['pickup_longitude'],test['pickup_latitude'],test['dropoff_longitude'],test['dropoff_latitude'])"
   ]
  },
  {
   "cell_type": "code",
   "execution_count": 29,
   "metadata": {
    "collapsed": true
   },
   "outputs": [],
   "source": [
    "train['dist_diff'] = km1"
   ]
  },
  {
   "cell_type": "code",
   "execution_count": 30,
   "metadata": {
    "collapsed": true
   },
   "outputs": [],
   "source": [
    "test['dist_diff'] = km"
   ]
  },
  {
   "cell_type": "code",
   "execution_count": 31,
   "metadata": {
    "collapsed": true
   },
   "outputs": [],
   "source": [
    "train['time_dist'] = (train['dropoff_datetime']-train['pickup_datetime']).astype('timedelta64[m]') \n",
    "test['time_dist'] = (test['dropoff_datetime']-test['pickup_datetime']).astype('timedelta64[m]') "
   ]
  },
  {
   "cell_type": "code",
   "execution_count": 32,
   "metadata": {},
   "outputs": [
    {
     "name": "stdout",
     "output_type": "stream",
     "text": [
      "(1658099, 24)\n",
      "vendor_id                     object\n",
      "new_user                      object\n",
      "tolls_amount                 float64\n",
      "tip_amount                   float64\n",
      "mta_tax                      float64\n",
      "pickup_datetime       datetime64[ns]\n",
      "dropoff_datetime      datetime64[ns]\n",
      "passenger_count                int64\n",
      "pickup_longitude             float64\n",
      "pickup_latitude              float64\n",
      "rate_code                      int64\n",
      "store_and_fwd_flag            object\n",
      "dropoff_longitude            float64\n",
      "dropoff_latitude             float64\n",
      "payment_type                  object\n",
      "surcharge                    float64\n",
      "fare_amount                  float64\n",
      "day                            int64\n",
      "month                          int64\n",
      "year                           int64\n",
      "weekday                        int64\n",
      "hour                           int64\n",
      "dist_diff                    float64\n",
      "time_dist                    float64\n",
      "dtype: object\n"
     ]
    }
   ],
   "source": [
    "print train.shape  \n",
    "\n",
    "print train.dtypes"
   ]
  },
  {
   "cell_type": "code",
   "execution_count": 33,
   "metadata": {},
   "outputs": [
    {
     "data": {
      "text/plain": [
       "(509808, 23)"
      ]
     },
     "execution_count": 33,
     "metadata": {},
     "output_type": "execute_result"
    }
   ],
   "source": [
    "test.shape"
   ]
  },
  {
   "cell_type": "code",
   "execution_count": 34,
   "metadata": {},
   "outputs": [
    {
     "data": {
      "text/plain": [
       "vendor_id                     object\n",
       "new_user                      object\n",
       "tolls_amount                 float64\n",
       "tip_amount                   float64\n",
       "mta_tax                      float64\n",
       "pickup_datetime       datetime64[ns]\n",
       "dropoff_datetime      datetime64[ns]\n",
       "passenger_count                int64\n",
       "pickup_longitude             float64\n",
       "pickup_latitude              float64\n",
       "rate_code                      int64\n",
       "store_and_fwd_flag            object\n",
       "dropoff_longitude            float64\n",
       "dropoff_latitude             float64\n",
       "payment_type                  object\n",
       "surcharge                    float64\n",
       "fare_amount                  float64\n",
       "day                            int64\n",
       "month                          int64\n",
       "year                           int64\n",
       "weekday                        int64\n",
       "hour                           int64\n",
       "dist_diff                    float64\n",
       "time_dist                    float64\n",
       "dtype: object"
      ]
     },
     "execution_count": 34,
     "metadata": {},
     "output_type": "execute_result"
    }
   ],
   "source": [
    "train.dtypes"
   ]
  },
  {
   "cell_type": "code",
   "execution_count": 35,
   "metadata": {
    "collapsed": true
   },
   "outputs": [],
   "source": [
    "obj_list = ['new_user' , 'store_and_fwd_flag' , 'pickup_datetime' , 'dropoff_datetime'] \n",
    "\n",
    "train = train.drop(obj_list , 1) \n",
    "test = test.drop(obj_list , 1)"
   ]
  },
  {
   "cell_type": "code",
   "execution_count": 36,
   "metadata": {},
   "outputs": [
    {
     "data": {
      "text/plain": [
       "vendor_id             object\n",
       "tolls_amount         float64\n",
       "tip_amount           float64\n",
       "mta_tax              float64\n",
       "passenger_count        int64\n",
       "pickup_longitude     float64\n",
       "pickup_latitude      float64\n",
       "rate_code              int64\n",
       "dropoff_longitude    float64\n",
       "dropoff_latitude     float64\n",
       "payment_type          object\n",
       "surcharge            float64\n",
       "day                    int64\n",
       "month                  int64\n",
       "year                   int64\n",
       "weekday                int64\n",
       "hour                   int64\n",
       "dist_diff            float64\n",
       "time_dist            float64\n",
       "dtype: object"
      ]
     },
     "execution_count": 36,
     "metadata": {},
     "output_type": "execute_result"
    }
   ],
   "source": [
    "test.dtypes"
   ]
  },
  {
   "cell_type": "code",
   "execution_count": 37,
   "metadata": {
    "collapsed": true
   },
   "outputs": [],
   "source": [
    "cat = ['vendor_id' , 'payment_type']\n",
    "other_df = pd.get_dummies(train[cat])\n",
    "other_df_test = pd.get_dummies(test[cat])"
   ]
  },
  {
   "cell_type": "code",
   "execution_count": 38,
   "metadata": {},
   "outputs": [
    {
     "data": {
      "text/plain": [
       "(1658099, 9)"
      ]
     },
     "execution_count": 38,
     "metadata": {},
     "output_type": "execute_result"
    }
   ],
   "source": [
    "other_df.shape"
   ]
  },
  {
   "cell_type": "code",
   "execution_count": 39,
   "metadata": {
    "collapsed": true
   },
   "outputs": [],
   "source": [
    "cols = train.columns"
   ]
  },
  {
   "cell_type": "code",
   "execution_count": 40,
   "metadata": {
    "collapsed": true
   },
   "outputs": [],
   "source": [
    "num = list(set(cols) - set(cat))"
   ]
  },
  {
   "cell_type": "code",
   "execution_count": 41,
   "metadata": {},
   "outputs": [
    {
     "data": {
      "text/plain": [
       "(1658099, 20)"
      ]
     },
     "execution_count": 41,
     "metadata": {},
     "output_type": "execute_result"
    }
   ],
   "source": [
    "train.shape"
   ]
  },
  {
   "cell_type": "code",
   "execution_count": 42,
   "metadata": {
    "collapsed": true
   },
   "outputs": [],
   "source": [
    "number_df = train[num]"
   ]
  },
  {
   "cell_type": "code",
   "execution_count": 43,
   "metadata": {},
   "outputs": [
    {
     "data": {
      "text/plain": [
       "(1658099, 18)"
      ]
     },
     "execution_count": 43,
     "metadata": {},
     "output_type": "execute_result"
    }
   ],
   "source": [
    "number_df.shape"
   ]
  },
  {
   "cell_type": "code",
   "execution_count": 44,
   "metadata": {
    "collapsed": true
   },
   "outputs": [],
   "source": [
    "train = pd.concat([other_df,number_df],axis=1)"
   ]
  },
  {
   "cell_type": "code",
   "execution_count": 45,
   "metadata": {},
   "outputs": [
    {
     "data": {
      "text/plain": [
       "(1658099, 27)"
      ]
     },
     "execution_count": 45,
     "metadata": {},
     "output_type": "execute_result"
    }
   ],
   "source": [
    "train.shape"
   ]
  },
  {
   "cell_type": "code",
   "execution_count": 46,
   "metadata": {
    "collapsed": true
   },
   "outputs": [],
   "source": [
    "cols = test.columns \n",
    "nums = list(set(cols) - set(cat))"
   ]
  },
  {
   "cell_type": "code",
   "execution_count": 47,
   "metadata": {},
   "outputs": [
    {
     "name": "stdout",
     "output_type": "stream",
     "text": [
      "(509808, 19)\n",
      "17\n"
     ]
    }
   ],
   "source": [
    "print test.shape\n",
    "\n",
    "print len(nums)"
   ]
  },
  {
   "cell_type": "code",
   "execution_count": 48,
   "metadata": {
    "collapsed": true
   },
   "outputs": [],
   "source": [
    "number_df = test[nums] \n",
    "\n",
    "test = pd.concat([other_df_test,number_df],axis=1)"
   ]
  },
  {
   "cell_type": "code",
   "execution_count": 49,
   "metadata": {},
   "outputs": [
    {
     "name": "stdout",
     "output_type": "stream",
     "text": [
      "(509808, 24)\n",
      "vendor_id_DST000481      uint8\n",
      "vendor_id_DST000543      uint8\n",
      "payment_type_CRD         uint8\n",
      "payment_type_CSH         uint8\n",
      "payment_type_DIS         uint8\n",
      "payment_type_NOC         uint8\n",
      "payment_type_UNK         uint8\n",
      "tolls_amount           float64\n",
      "dropoff_latitude       float64\n",
      "tip_amount             float64\n",
      "hour                     int64\n",
      "mta_tax                float64\n",
      "time_dist              float64\n",
      "pickup_longitude       float64\n",
      "month                    int64\n",
      "dropoff_longitude      float64\n",
      "passenger_count          int64\n",
      "weekday                  int64\n",
      "year                     int64\n",
      "rate_code                int64\n",
      "pickup_latitude        float64\n",
      "day                      int64\n",
      "dist_diff              float64\n",
      "surcharge              float64\n",
      "dtype: object\n"
     ]
    }
   ],
   "source": [
    "print test.shape\n",
    "print test.dtypes"
   ]
  },
  {
   "cell_type": "code",
   "execution_count": 50,
   "metadata": {
    "collapsed": true
   },
   "outputs": [],
   "source": [
    "validate=train[train.year > 2015]\n",
    "training=train[train.year <= 2015]"
   ]
  },
  {
   "cell_type": "code",
   "execution_count": 51,
   "metadata": {},
   "outputs": [
    {
     "data": {
      "text/plain": [
       "(515899, 27)"
      ]
     },
     "execution_count": 51,
     "metadata": {},
     "output_type": "execute_result"
    }
   ],
   "source": [
    "validate.shape"
   ]
  },
  {
   "cell_type": "code",
   "execution_count": 52,
   "metadata": {},
   "outputs": [
    {
     "data": {
      "text/plain": [
       "(1142200, 27)"
      ]
     },
     "execution_count": 52,
     "metadata": {},
     "output_type": "execute_result"
    }
   ],
   "source": [
    "training.shape"
   ]
  },
  {
   "cell_type": "code",
   "execution_count": 53,
   "metadata": {
    "collapsed": true
   },
   "outputs": [],
   "source": [
    "preds = test.columns\n",
    "target = 'fare_amount'"
   ]
  },
  {
   "cell_type": "code",
   "execution_count": 54,
   "metadata": {
    "collapsed": true
   },
   "outputs": [],
   "source": [
    "X_training=training[preds].values\n",
    "y_training=training[target].values\n",
    "\n",
    "X_validate=validate[preds].values\n",
    "y_validate=validate[target].values"
   ]
  },
  {
   "cell_type": "code",
   "execution_count": 55,
   "metadata": {},
   "outputs": [
    {
     "name": "stderr",
     "output_type": "stream",
     "text": [
      "/usr/local/lib/python2.7/dist-packages/sklearn/cross_validation.py:44: DeprecationWarning: This module was deprecated in version 0.18 in favor of the model_selection module into which all the refactored classes and functions are moved. Also note that the interface of the new CV iterators are different from that of this module. This module will be removed in 0.20.\n",
      "  \"This module will be removed in 0.20.\", DeprecationWarning)\n"
     ]
    }
   ],
   "source": [
    "import xgboost as xgb"
   ]
  },
  {
   "cell_type": "code",
   "execution_count": 56,
   "metadata": {
    "collapsed": true
   },
   "outputs": [],
   "source": [
    "dtrain_all = xgb.DMatrix(train[preds],train[target], feature_names=preds)\n",
    "dtrain = xgb.DMatrix(X_training, y_training, feature_names=preds)\n",
    "dval = xgb.DMatrix(X_validate, y_validate, feature_names=preds)\n",
    "dtest = xgb.DMatrix(test[preds], feature_names=preds)"
   ]
  },
  {
   "cell_type": "code",
   "execution_count": 57,
   "metadata": {
    "collapsed": true
   },
   "outputs": [],
   "source": [
    "xgb_params = {\n",
    "    'eta': 0.1,\n",
    "    'max_depth': 7,\n",
    "    'subsample': 0.7,\n",
    "    'colsample_bytree': 0.7,\n",
    "    'objective': 'reg:linear',\n",
    "    'eval_metric': 'mae',\n",
    "    'min_child_weight':1,\n",
    "    'silent': 1,\n",
    "    'seed':2017, \n",
    "    'nthread':4\n",
    "}\n"
   ]
  },
  {
   "cell_type": "code",
   "execution_count": 65,
   "metadata": {},
   "outputs": [
    {
     "data": {
      "text/plain": [
       "vendor_id_DST000401      uint8\n",
       "vendor_id_DST000481      uint8\n",
       "vendor_id_DST000532      uint8\n",
       "vendor_id_DST000543      uint8\n",
       "payment_type_CRD         uint8\n",
       "payment_type_CSH         uint8\n",
       "payment_type_DIS         uint8\n",
       "payment_type_NOC         uint8\n",
       "payment_type_UNK         uint8\n",
       "tolls_amount           float64\n",
       "dropoff_latitude       float64\n",
       "tip_amount             float64\n",
       "hour                     int64\n",
       "mta_tax                float64\n",
       "time_dist              float64\n",
       "fare_amount            float64\n",
       "pickup_longitude       float64\n",
       "month                    int64\n",
       "dropoff_longitude      float64\n",
       "passenger_count          int64\n",
       "weekday                  int64\n",
       "year                     int64\n",
       "rate_code                int64\n",
       "pickup_latitude        float64\n",
       "day                      int64\n",
       "dist_diff              float64\n",
       "surcharge              float64\n",
       "dtype: object"
      ]
     },
     "execution_count": 65,
     "metadata": {},
     "output_type": "execute_result"
    }
   ],
   "source": [
    "training.dtypes"
   ]
  },
  {
   "cell_type": "code",
   "execution_count": 70,
   "metadata": {
    "collapsed": true
   },
   "outputs": [
    {
     "name": "stdout",
     "output_type": "stream",
     "text": [
      "[0]\tTrain-mae:13.261\tValidation-mae:13.5079\n",
      "Multiple eval metrics have been passed: 'Validation-mae' will be used for early stopping.\n",
      "\n",
      "Will train until Validation-mae hasn't improved in 50 rounds.\n",
      "[5]\tTrain-mae:7.85998\tValidation-mae:8.12359\n",
      "[10]\tTrain-mae:4.71725\tValidation-mae:4.99557\n",
      "[15]\tTrain-mae:2.89476\tValidation-mae:3.1632\n",
      "[20]\tTrain-mae:1.8903\tValidation-mae:2.12182\n",
      "[25]\tTrain-mae:1.35331\tValidation-mae:1.54735\n",
      "[30]\tTrain-mae:1.11097\tValidation-mae:1.26024\n",
      "[35]\tTrain-mae:1.00149\tValidation-mae:1.1213\n",
      "[40]\tTrain-mae:0.955277\tValidation-mae:1.05136\n",
      "[45]\tTrain-mae:0.930926\tValidation-mae:1.01579\n",
      "[50]\tTrain-mae:0.913792\tValidation-mae:0.992875\n",
      "[55]\tTrain-mae:0.902175\tValidation-mae:0.978676\n",
      "[60]\tTrain-mae:0.895517\tValidation-mae:0.971098\n",
      "[65]\tTrain-mae:0.886861\tValidation-mae:0.96213\n",
      "[70]\tTrain-mae:0.883109\tValidation-mae:0.959788\n",
      "[75]\tTrain-mae:0.876817\tValidation-mae:0.95383\n",
      "[80]\tTrain-mae:0.874029\tValidation-mae:0.951562\n",
      "[85]\tTrain-mae:0.870994\tValidation-mae:0.950329\n",
      "[90]\tTrain-mae:0.868223\tValidation-mae:0.947874\n",
      "[95]\tTrain-mae:0.863239\tValidation-mae:0.944908\n",
      "[100]\tTrain-mae:0.857711\tValidation-mae:0.940937\n",
      "[105]\tTrain-mae:0.854543\tValidation-mae:0.938928\n",
      "[110]\tTrain-mae:0.851111\tValidation-mae:0.938324\n",
      "[115]\tTrain-mae:0.848314\tValidation-mae:0.937186\n",
      "[120]\tTrain-mae:0.844066\tValidation-mae:0.934214\n",
      "[125]\tTrain-mae:0.839899\tValidation-mae:0.931115\n",
      "[130]\tTrain-mae:0.837754\tValidation-mae:0.929567\n",
      "[135]\tTrain-mae:0.835165\tValidation-mae:0.92742\n",
      "[140]\tTrain-mae:0.83215\tValidation-mae:0.925797\n",
      "[145]\tTrain-mae:0.830723\tValidation-mae:0.925424\n",
      "[150]\tTrain-mae:0.827994\tValidation-mae:0.923838\n",
      "[155]\tTrain-mae:0.826361\tValidation-mae:0.923503\n",
      "[160]\tTrain-mae:0.825052\tValidation-mae:0.922974\n",
      "[165]\tTrain-mae:0.822757\tValidation-mae:0.921895\n",
      "[170]\tTrain-mae:0.820108\tValidation-mae:0.920033\n",
      "[175]\tTrain-mae:0.817607\tValidation-mae:0.918817\n",
      "[180]\tTrain-mae:0.815582\tValidation-mae:0.918415\n",
      "[185]\tTrain-mae:0.813115\tValidation-mae:0.91729\n",
      "[190]\tTrain-mae:0.811531\tValidation-mae:0.916345\n",
      "[195]\tTrain-mae:0.809137\tValidation-mae:0.915108\n",
      "[200]\tTrain-mae:0.80801\tValidation-mae:0.914654\n",
      "[205]\tTrain-mae:0.805595\tValidation-mae:0.913484\n",
      "[210]\tTrain-mae:0.804185\tValidation-mae:0.912302\n",
      "[215]\tTrain-mae:0.801652\tValidation-mae:0.911348\n",
      "[220]\tTrain-mae:0.799077\tValidation-mae:0.909401\n",
      "[225]\tTrain-mae:0.797245\tValidation-mae:0.907923\n",
      "[230]\tTrain-mae:0.796264\tValidation-mae:0.90769\n",
      "[235]\tTrain-mae:0.793818\tValidation-mae:0.906534\n",
      "[240]\tTrain-mae:0.792412\tValidation-mae:0.905363\n",
      "[245]\tTrain-mae:0.790455\tValidation-mae:0.904853\n",
      "[250]\tTrain-mae:0.789702\tValidation-mae:0.904509\n",
      "[255]\tTrain-mae:0.788517\tValidation-mae:0.903913\n",
      "[260]\tTrain-mae:0.78573\tValidation-mae:0.902051\n",
      "[265]\tTrain-mae:0.783835\tValidation-mae:0.900507\n",
      "[270]\tTrain-mae:0.782676\tValidation-mae:0.900378\n",
      "[275]\tTrain-mae:0.781462\tValidation-mae:0.900065\n",
      "[280]\tTrain-mae:0.780415\tValidation-mae:0.900231\n",
      "[285]\tTrain-mae:0.77856\tValidation-mae:0.899557\n",
      "[290]\tTrain-mae:0.77747\tValidation-mae:0.899034\n",
      "[295]\tTrain-mae:0.775545\tValidation-mae:0.897848\n",
      "[300]\tTrain-mae:0.773921\tValidation-mae:0.897707\n",
      "[305]\tTrain-mae:0.772827\tValidation-mae:0.896808\n",
      "[310]\tTrain-mae:0.772131\tValidation-mae:0.897044\n",
      "[315]\tTrain-mae:0.77127\tValidation-mae:0.896854\n",
      "[320]\tTrain-mae:0.770277\tValidation-mae:0.896508\n",
      "[325]\tTrain-mae:0.769315\tValidation-mae:0.896493\n",
      "[330]\tTrain-mae:0.768304\tValidation-mae:0.896109\n",
      "[335]\tTrain-mae:0.767412\tValidation-mae:0.895463\n",
      "[340]\tTrain-mae:0.765937\tValidation-mae:0.895096\n",
      "[345]\tTrain-mae:0.764996\tValidation-mae:0.894394\n",
      "[350]\tTrain-mae:0.763497\tValidation-mae:0.894135\n",
      "[355]\tTrain-mae:0.761084\tValidation-mae:0.892824\n",
      "[360]\tTrain-mae:0.759985\tValidation-mae:0.892712\n",
      "[365]\tTrain-mae:0.757827\tValidation-mae:0.891896\n",
      "[370]\tTrain-mae:0.756755\tValidation-mae:0.891327\n",
      "[375]\tTrain-mae:0.755962\tValidation-mae:0.89125\n",
      "[380]\tTrain-mae:0.754979\tValidation-mae:0.89072\n",
      "[385]\tTrain-mae:0.752924\tValidation-mae:0.89101\n",
      "[390]\tTrain-mae:0.751862\tValidation-mae:0.891243\n",
      "[395]\tTrain-mae:0.751026\tValidation-mae:0.890937\n",
      "[400]\tTrain-mae:0.750019\tValidation-mae:0.89073\n",
      "[405]\tTrain-mae:0.748998\tValidation-mae:0.890735\n",
      "[410]\tTrain-mae:0.748243\tValidation-mae:0.890409\n",
      "[415]\tTrain-mae:0.747043\tValidation-mae:0.889941\n",
      "[420]\tTrain-mae:0.746171\tValidation-mae:0.88995\n",
      "[425]\tTrain-mae:0.745127\tValidation-mae:0.889734\n",
      "[430]\tTrain-mae:0.744225\tValidation-mae:0.889399\n",
      "[435]\tTrain-mae:0.743645\tValidation-mae:0.889249\n",
      "[440]\tTrain-mae:0.742936\tValidation-mae:0.88921\n",
      "[445]\tTrain-mae:0.742403\tValidation-mae:0.888941\n",
      "[450]\tTrain-mae:0.74111\tValidation-mae:0.888954\n",
      "[455]\tTrain-mae:0.74024\tValidation-mae:0.888435\n",
      "[460]\tTrain-mae:0.739484\tValidation-mae:0.888374\n",
      "[465]\tTrain-mae:0.738725\tValidation-mae:0.888381\n",
      "[470]\tTrain-mae:0.737893\tValidation-mae:0.887933\n",
      "[475]\tTrain-mae:0.736779\tValidation-mae:0.887658\n",
      "[480]\tTrain-mae:0.73575\tValidation-mae:0.887462\n",
      "[485]\tTrain-mae:0.73541\tValidation-mae:0.886886\n",
      "[490]\tTrain-mae:0.734903\tValidation-mae:0.886836\n",
      "[495]\tTrain-mae:0.733645\tValidation-mae:0.886986\n",
      "[500]\tTrain-mae:0.732595\tValidation-mae:0.886325\n",
      "[505]\tTrain-mae:0.731544\tValidation-mae:0.885824\n",
      "[510]\tTrain-mae:0.730988\tValidation-mae:0.885775\n",
      "[515]\tTrain-mae:0.730071\tValidation-mae:0.88542\n",
      "[520]\tTrain-mae:0.729267\tValidation-mae:0.884854\n",
      "[525]\tTrain-mae:0.728322\tValidation-mae:0.884976\n",
      "[530]\tTrain-mae:0.72763\tValidation-mae:0.884772\n",
      "[535]\tTrain-mae:0.726503\tValidation-mae:0.884305\n",
      "[540]\tTrain-mae:0.725791\tValidation-mae:0.884235\n",
      "[545]\tTrain-mae:0.724545\tValidation-mae:0.883768\n",
      "[550]\tTrain-mae:0.724027\tValidation-mae:0.883561\n",
      "[555]\tTrain-mae:0.723234\tValidation-mae:0.883434\n",
      "[560]\tTrain-mae:0.722799\tValidation-mae:0.88426\n",
      "[565]\tTrain-mae:0.721982\tValidation-mae:0.883919\n",
      "[570]\tTrain-mae:0.721093\tValidation-mae:0.88348\n",
      "[575]\tTrain-mae:0.720367\tValidation-mae:0.88338\n",
      "[580]\tTrain-mae:0.719835\tValidation-mae:0.882951\n",
      "[585]\tTrain-mae:0.71913\tValidation-mae:0.882612\n",
      "[590]\tTrain-mae:0.718525\tValidation-mae:0.882091\n",
      "[595]\tTrain-mae:0.71734\tValidation-mae:0.881694\n",
      "[600]\tTrain-mae:0.716659\tValidation-mae:0.881658\n",
      "[605]\tTrain-mae:0.716052\tValidation-mae:0.881684\n",
      "[610]\tTrain-mae:0.715418\tValidation-mae:0.881482\n",
      "[615]\tTrain-mae:0.714553\tValidation-mae:0.88132\n",
      "[620]\tTrain-mae:0.713932\tValidation-mae:0.881164\n",
      "[625]\tTrain-mae:0.713118\tValidation-mae:0.880658\n",
      "[630]\tTrain-mae:0.712277\tValidation-mae:0.880354\n",
      "[635]\tTrain-mae:0.711746\tValidation-mae:0.880275\n",
      "[640]\tTrain-mae:0.711191\tValidation-mae:0.880022\n",
      "[645]\tTrain-mae:0.710454\tValidation-mae:0.879669\n",
      "[650]\tTrain-mae:0.709967\tValidation-mae:0.879685\n",
      "[655]\tTrain-mae:0.709544\tValidation-mae:0.879558\n",
      "[660]\tTrain-mae:0.709006\tValidation-mae:0.879285\n",
      "[665]\tTrain-mae:0.70839\tValidation-mae:0.879105\n",
      "[670]\tTrain-mae:0.708014\tValidation-mae:0.878996\n",
      "[675]\tTrain-mae:0.707534\tValidation-mae:0.87893\n",
      "[680]\tTrain-mae:0.707254\tValidation-mae:0.879038\n",
      "[685]\tTrain-mae:0.706679\tValidation-mae:0.879025\n",
      "[690]\tTrain-mae:0.705428\tValidation-mae:0.878523\n",
      "[695]\tTrain-mae:0.704939\tValidation-mae:0.878213\n",
      "[700]\tTrain-mae:0.70406\tValidation-mae:0.877912\n",
      "[705]\tTrain-mae:0.703451\tValidation-mae:0.87787\n",
      "[710]\tTrain-mae:0.70294\tValidation-mae:0.877759\n",
      "[715]\tTrain-mae:0.702486\tValidation-mae:0.877788\n",
      "[720]\tTrain-mae:0.702102\tValidation-mae:0.877632\n",
      "[725]\tTrain-mae:0.701532\tValidation-mae:0.876989\n",
      "[730]\tTrain-mae:0.700551\tValidation-mae:0.876439\n",
      "[735]\tTrain-mae:0.700159\tValidation-mae:0.876445\n",
      "[740]\tTrain-mae:0.699871\tValidation-mae:0.876545\n",
      "[745]\tTrain-mae:0.699252\tValidation-mae:0.87645\n",
      "[750]\tTrain-mae:0.698277\tValidation-mae:0.875992\n",
      "[755]\tTrain-mae:0.697558\tValidation-mae:0.876081\n",
      "[760]\tTrain-mae:0.696417\tValidation-mae:0.875452\n",
      "[765]\tTrain-mae:0.69574\tValidation-mae:0.875156\n",
      "[770]\tTrain-mae:0.695358\tValidation-mae:0.875126\n",
      "[775]\tTrain-mae:0.694899\tValidation-mae:0.875171\n",
      "[780]\tTrain-mae:0.694279\tValidation-mae:0.87496\n",
      "[785]\tTrain-mae:0.693468\tValidation-mae:0.874739\n",
      "[790]\tTrain-mae:0.692799\tValidation-mae:0.874677\n",
      "[795]\tTrain-mae:0.69226\tValidation-mae:0.874537\n",
      "[800]\tTrain-mae:0.691713\tValidation-mae:0.874363\n",
      "[805]\tTrain-mae:0.690873\tValidation-mae:0.87442\n",
      "[810]\tTrain-mae:0.690462\tValidation-mae:0.87435\n",
      "[815]\tTrain-mae:0.689568\tValidation-mae:0.873916\n",
      "[820]\tTrain-mae:0.689064\tValidation-mae:0.873604\n",
      "[825]\tTrain-mae:0.688495\tValidation-mae:0.873624\n"
     ]
    },
    {
     "name": "stdout",
     "output_type": "stream",
     "text": [
      "[830]\tTrain-mae:0.688115\tValidation-mae:0.873542\n",
      "[835]\tTrain-mae:0.687627\tValidation-mae:0.873096\n",
      "[840]\tTrain-mae:0.687019\tValidation-mae:0.87309\n",
      "[845]\tTrain-mae:0.68678\tValidation-mae:0.873176\n",
      "[850]\tTrain-mae:0.685741\tValidation-mae:0.872712\n",
      "[855]\tTrain-mae:0.685418\tValidation-mae:0.872639\n",
      "[860]\tTrain-mae:0.684917\tValidation-mae:0.872468\n",
      "[865]\tTrain-mae:0.684292\tValidation-mae:0.872685\n",
      "[870]\tTrain-mae:0.683581\tValidation-mae:0.872347\n",
      "[875]\tTrain-mae:0.683253\tValidation-mae:0.872423\n",
      "[880]\tTrain-mae:0.682754\tValidation-mae:0.872378\n",
      "[885]\tTrain-mae:0.682091\tValidation-mae:0.872625\n",
      "[890]\tTrain-mae:0.68174\tValidation-mae:0.872616\n",
      "[895]\tTrain-mae:0.681115\tValidation-mae:0.872622\n",
      "[900]\tTrain-mae:0.680795\tValidation-mae:0.872514\n",
      "[905]\tTrain-mae:0.680267\tValidation-mae:0.872451\n",
      "[910]\tTrain-mae:0.679913\tValidation-mae:0.872622\n",
      "[915]\tTrain-mae:0.679521\tValidation-mae:0.872217\n",
      "[920]\tTrain-mae:0.678875\tValidation-mae:0.872036\n",
      "[925]\tTrain-mae:0.677672\tValidation-mae:0.871281\n",
      "[930]\tTrain-mae:0.677134\tValidation-mae:0.871215\n",
      "[935]\tTrain-mae:0.676766\tValidation-mae:0.871104\n",
      "[940]\tTrain-mae:0.676515\tValidation-mae:0.871076\n",
      "[945]\tTrain-mae:0.675919\tValidation-mae:0.870864\n",
      "[950]\tTrain-mae:0.67523\tValidation-mae:0.87082\n",
      "[955]\tTrain-mae:0.674482\tValidation-mae:0.870777\n",
      "[960]\tTrain-mae:0.674068\tValidation-mae:0.87065\n",
      "[965]\tTrain-mae:0.673798\tValidation-mae:0.870681\n",
      "[970]\tTrain-mae:0.673353\tValidation-mae:0.870886\n",
      "[975]\tTrain-mae:0.672967\tValidation-mae:0.870647\n",
      "[980]\tTrain-mae:0.672482\tValidation-mae:0.870381\n",
      "[985]\tTrain-mae:0.672138\tValidation-mae:0.870349\n",
      "[990]\tTrain-mae:0.671744\tValidation-mae:0.870402\n",
      "[995]\tTrain-mae:0.671343\tValidation-mae:0.870203\n",
      "[1000]\tTrain-mae:0.670609\tValidation-mae:0.870003\n",
      "[1005]\tTrain-mae:0.67008\tValidation-mae:0.87026\n",
      "[1010]\tTrain-mae:0.669754\tValidation-mae:0.870193\n",
      "[1015]\tTrain-mae:0.669234\tValidation-mae:0.869993\n",
      "[1020]\tTrain-mae:0.668932\tValidation-mae:0.869703\n",
      "[1025]\tTrain-mae:0.668627\tValidation-mae:0.869695\n",
      "[1030]\tTrain-mae:0.668433\tValidation-mae:0.869689\n",
      "[1035]\tTrain-mae:0.668118\tValidation-mae:0.869761\n",
      "[1040]\tTrain-mae:0.667654\tValidation-mae:0.869901\n",
      "[1045]\tTrain-mae:0.667247\tValidation-mae:0.869979\n",
      "[1050]\tTrain-mae:0.666748\tValidation-mae:0.869865\n",
      "[1055]\tTrain-mae:0.66601\tValidation-mae:0.869796\n",
      "[1060]\tTrain-mae:0.66562\tValidation-mae:0.869756\n",
      "[1065]\tTrain-mae:0.664817\tValidation-mae:0.869375\n",
      "[1070]\tTrain-mae:0.664126\tValidation-mae:0.869528\n",
      "[1075]\tTrain-mae:0.663814\tValidation-mae:0.869472\n",
      "[1080]\tTrain-mae:0.663381\tValidation-mae:0.869489\n",
      "[1085]\tTrain-mae:0.662739\tValidation-mae:0.869212\n",
      "[1090]\tTrain-mae:0.662398\tValidation-mae:0.869123\n",
      "[1095]\tTrain-mae:0.661943\tValidation-mae:0.869031\n",
      "[1100]\tTrain-mae:0.661378\tValidation-mae:0.86893\n",
      "[1105]\tTrain-mae:0.661022\tValidation-mae:0.869013\n",
      "[1110]\tTrain-mae:0.660595\tValidation-mae:0.869187\n",
      "[1115]\tTrain-mae:0.659943\tValidation-mae:0.86939\n",
      "[1120]\tTrain-mae:0.659315\tValidation-mae:0.869076\n",
      "[1125]\tTrain-mae:0.658834\tValidation-mae:0.869093\n",
      "[1130]\tTrain-mae:0.658431\tValidation-mae:0.868987\n",
      "[1135]\tTrain-mae:0.658128\tValidation-mae:0.868776\n",
      "[1140]\tTrain-mae:0.657783\tValidation-mae:0.869147\n",
      "[1145]\tTrain-mae:0.657216\tValidation-mae:0.868964\n",
      "[1150]\tTrain-mae:0.656743\tValidation-mae:0.869067\n",
      "[1155]\tTrain-mae:0.656447\tValidation-mae:0.869243\n",
      "[1160]\tTrain-mae:0.655905\tValidation-mae:0.869269\n",
      "[1165]\tTrain-mae:0.655545\tValidation-mae:0.869313\n",
      "[1170]\tTrain-mae:0.655166\tValidation-mae:0.869257\n",
      "[1175]\tTrain-mae:0.654856\tValidation-mae:0.869231\n",
      "[1180]\tTrain-mae:0.654535\tValidation-mae:0.869353\n",
      "Stopping. Best iteration:\n",
      "[1134]\tTrain-mae:0.658182\tValidation-mae:0.868758\n",
      "\n"
     ]
    }
   ],
   "source": [
    "watchlist = [ (dtrain,'Train'), (dval, 'Validation') ]\n",
    "num_rounds = 2000 # Increase the number of rounds while running in local\n",
    "model = xgb.train(xgb_params, dtrain, num_rounds, watchlist, early_stopping_rounds=50, verbose_eval=5)"
   ]
  },
  {
   "cell_type": "code",
   "execution_count": 72,
   "metadata": {
    "collapsed": true
   },
   "outputs": [],
   "source": [
    "model = xgb.train(dict(xgb_params, silent=1), dtrain_all, num_boost_round=1194)"
   ]
  },
  {
   "cell_type": "code",
   "execution_count": 73,
   "metadata": {
    "collapsed": true
   },
   "outputs": [],
   "source": [
    "predict = model.predict(dtest)"
   ]
  },
  {
   "cell_type": "code",
   "execution_count": 74,
   "metadata": {
    "collapsed": true
   },
   "outputs": [],
   "source": [
    "sub = pd.read_csv('sample_submission.csv')"
   ]
  },
  {
   "cell_type": "code",
   "execution_count": 75,
   "metadata": {},
   "outputs": [
    {
     "data": {
      "text/plain": [
       "(509808, 2)"
      ]
     },
     "execution_count": 75,
     "metadata": {},
     "output_type": "execute_result"
    }
   ],
   "source": [
    "sub.shape"
   ]
  },
  {
   "cell_type": "code",
   "execution_count": 76,
   "metadata": {
    "collapsed": true
   },
   "outputs": [
    {
     "data": {
      "text/html": [
       "<div>\n",
       "<table border=\"1\" class=\"dataframe\">\n",
       "  <thead>\n",
       "    <tr style=\"text-align: right;\">\n",
       "      <th></th>\n",
       "      <th>TID</th>\n",
       "      <th>fare_amount</th>\n",
       "    </tr>\n",
       "  </thead>\n",
       "  <tbody>\n",
       "    <tr>\n",
       "      <th>0</th>\n",
       "      <td>AJX000119871</td>\n",
       "      <td></td>\n",
       "    </tr>\n",
       "    <tr>\n",
       "      <th>1</th>\n",
       "      <td>AJX000119872</td>\n",
       "      <td></td>\n",
       "    </tr>\n",
       "    <tr>\n",
       "      <th>2</th>\n",
       "      <td>AJX000119873</td>\n",
       "      <td></td>\n",
       "    </tr>\n",
       "    <tr>\n",
       "      <th>3</th>\n",
       "      <td>AJX000119874</td>\n",
       "      <td></td>\n",
       "    </tr>\n",
       "    <tr>\n",
       "      <th>4</th>\n",
       "      <td>AJX000119875</td>\n",
       "      <td></td>\n",
       "    </tr>\n",
       "  </tbody>\n",
       "</table>\n",
       "</div>"
      ],
      "text/plain": [
       "            TID fare_amount\n",
       "0  AJX000119871            \n",
       "1  AJX000119872            \n",
       "2  AJX000119873            \n",
       "3  AJX000119874            \n",
       "4  AJX000119875            "
      ]
     },
     "execution_count": 76,
     "metadata": {},
     "output_type": "execute_result"
    }
   ],
   "source": [
    "sub.head()"
   ]
  },
  {
   "cell_type": "code",
   "execution_count": 77,
   "metadata": {
    "collapsed": true
   },
   "outputs": [],
   "source": [
    "sub['TID'] = tid"
   ]
  },
  {
   "cell_type": "code",
   "execution_count": 78,
   "metadata": {
    "collapsed": true
   },
   "outputs": [],
   "source": [
    "sub['fare_amount'] = predict"
   ]
  },
  {
   "cell_type": "code",
   "execution_count": 79,
   "metadata": {
    "collapsed": true
   },
   "outputs": [],
   "source": [
    "sub.to_csv('sub1.csv',index=False)"
   ]
  },
  {
   "cell_type": "code",
   "execution_count": null,
   "metadata": {
    "collapsed": true
   },
   "outputs": [],
   "source": []
  }
 ],
 "metadata": {
  "kernelspec": {
   "display_name": "Python 2",
   "language": "python",
   "name": "python2"
  },
  "language_info": {
   "codemirror_mode": {
    "name": "ipython",
    "version": 2
   },
   "file_extension": ".py",
   "mimetype": "text/x-python",
   "name": "python",
   "nbconvert_exporter": "python",
   "pygments_lexer": "ipython2",
   "version": "2.7.12"
  }
 },
 "nbformat": 4,
 "nbformat_minor": 2
}
